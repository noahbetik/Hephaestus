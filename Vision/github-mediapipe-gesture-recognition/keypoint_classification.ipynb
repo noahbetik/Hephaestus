{
 "cells": [
  {
   "cell_type": "code",
   "execution_count": 162,
   "metadata": {},
   "outputs": [
    {
     "name": "stderr",
     "output_type": "stream",
     "text": [
      "/Library/Frameworks/Python.framework/Versions/3.11/lib/python3.11/pty.py:89: RuntimeWarning: os.fork() was called. os.fork() is incompatible with multithreaded code, and JAX is multithreaded, so this will likely lead to a deadlock.\n",
      "  pid, fd = os.forkpty()\n"
     ]
    },
    {
     "name": "stdout",
     "output_type": "stream",
     "text": [
      "Requirement already satisfied: scikit-learn in /Library/Frameworks/Python.framework/Versions/3.11/lib/python3.11/site-packages (1.4.1.post1)\n",
      "Requirement already satisfied: numpy<2.0,>=1.19.5 in /Library/Frameworks/Python.framework/Versions/3.11/lib/python3.11/site-packages (from scikit-learn) (1.26.4)\n",
      "Requirement already satisfied: scipy>=1.6.0 in /Library/Frameworks/Python.framework/Versions/3.11/lib/python3.11/site-packages (from scikit-learn) (1.12.0)\n",
      "Requirement already satisfied: joblib>=1.2.0 in /Library/Frameworks/Python.framework/Versions/3.11/lib/python3.11/site-packages (from scikit-learn) (1.3.2)\n",
      "Requirement already satisfied: threadpoolctl>=2.0.0 in /Library/Frameworks/Python.framework/Versions/3.11/lib/python3.11/site-packages (from scikit-learn) (3.3.0)\n",
      "\n",
      "\u001b[1m[\u001b[0m\u001b[34;49mnotice\u001b[0m\u001b[1;39;49m]\u001b[0m\u001b[39;49m A new release of pip available: \u001b[0m\u001b[31;49m22.3\u001b[0m\u001b[39;49m -> \u001b[0m\u001b[32;49m24.0\u001b[0m\n",
      "\u001b[1m[\u001b[0m\u001b[34;49mnotice\u001b[0m\u001b[1;39;49m]\u001b[0m\u001b[39;49m To update, run: \u001b[0m\u001b[32;49mpip3 install --upgrade pip\u001b[0m\n"
     ]
    }
   ],
   "source": [
    "#!pip install scikit-learn\n",
    "import sys\n",
    "!{sys.executable} -m pip install scikit-learn"
   ]
  },
  {
   "cell_type": "code",
   "execution_count": 163,
   "metadata": {},
   "outputs": [
    {
     "name": "stdout",
     "output_type": "stream",
     "text": [
      "Requirement already satisfied: scikit-learn in /Users/vaibhavgogia/anaconda3/lib/python3.11/site-packages (1.3.0)\n",
      "Requirement already satisfied: numpy>=1.17.3 in /Users/vaibhavgogia/anaconda3/lib/python3.11/site-packages (from scikit-learn) (1.24.3)\n",
      "Requirement already satisfied: scipy>=1.5.0 in /Users/vaibhavgogia/anaconda3/lib/python3.11/site-packages (from scikit-learn) (1.11.1)\n",
      "Requirement already satisfied: joblib>=1.1.1 in /Users/vaibhavgogia/anaconda3/lib/python3.11/site-packages (from scikit-learn) (1.2.0)\n",
      "Requirement already satisfied: threadpoolctl>=2.0.0 in /Users/vaibhavgogia/anaconda3/lib/python3.11/site-packages (from scikit-learn) (2.2.0)\n",
      "Requirement already satisfied: pandas in /Users/vaibhavgogia/anaconda3/lib/python3.11/site-packages (2.0.3)\n",
      "Requirement already satisfied: python-dateutil>=2.8.2 in /Users/vaibhavgogia/anaconda3/lib/python3.11/site-packages (from pandas) (2.8.2)\n",
      "Requirement already satisfied: pytz>=2020.1 in /Users/vaibhavgogia/anaconda3/lib/python3.11/site-packages (from pandas) (2023.3.post1)\n",
      "Requirement already satisfied: tzdata>=2022.1 in /Users/vaibhavgogia/anaconda3/lib/python3.11/site-packages (from pandas) (2023.3)\n",
      "Requirement already satisfied: numpy>=1.21.0 in /Users/vaibhavgogia/anaconda3/lib/python3.11/site-packages (from pandas) (1.24.3)\n",
      "Requirement already satisfied: six>=1.5 in /Users/vaibhavgogia/anaconda3/lib/python3.11/site-packages (from python-dateutil>=2.8.2->pandas) (1.16.0)\n",
      "Requirement already satisfied: seaborn in /Users/vaibhavgogia/anaconda3/lib/python3.11/site-packages (0.12.2)\n",
      "Requirement already satisfied: numpy!=1.24.0,>=1.17 in /Users/vaibhavgogia/anaconda3/lib/python3.11/site-packages (from seaborn) (1.24.3)\n",
      "Requirement already satisfied: pandas>=0.25 in /Users/vaibhavgogia/anaconda3/lib/python3.11/site-packages (from seaborn) (2.0.3)\n",
      "Requirement already satisfied: matplotlib!=3.6.1,>=3.1 in /Users/vaibhavgogia/anaconda3/lib/python3.11/site-packages (from seaborn) (3.7.2)\n",
      "Requirement already satisfied: contourpy>=1.0.1 in /Users/vaibhavgogia/anaconda3/lib/python3.11/site-packages (from matplotlib!=3.6.1,>=3.1->seaborn) (1.0.5)\n",
      "Requirement already satisfied: cycler>=0.10 in /Users/vaibhavgogia/anaconda3/lib/python3.11/site-packages (from matplotlib!=3.6.1,>=3.1->seaborn) (0.11.0)\n",
      "Requirement already satisfied: fonttools>=4.22.0 in /Users/vaibhavgogia/anaconda3/lib/python3.11/site-packages (from matplotlib!=3.6.1,>=3.1->seaborn) (4.25.0)\n",
      "Requirement already satisfied: kiwisolver>=1.0.1 in /Users/vaibhavgogia/anaconda3/lib/python3.11/site-packages (from matplotlib!=3.6.1,>=3.1->seaborn) (1.4.4)\n",
      "Requirement already satisfied: packaging>=20.0 in /Users/vaibhavgogia/anaconda3/lib/python3.11/site-packages (from matplotlib!=3.6.1,>=3.1->seaborn) (23.1)\n",
      "Requirement already satisfied: pillow>=6.2.0 in /Users/vaibhavgogia/anaconda3/lib/python3.11/site-packages (from matplotlib!=3.6.1,>=3.1->seaborn) (9.4.0)\n",
      "Requirement already satisfied: pyparsing<3.1,>=2.3.1 in /Users/vaibhavgogia/anaconda3/lib/python3.11/site-packages (from matplotlib!=3.6.1,>=3.1->seaborn) (3.0.9)\n",
      "Requirement already satisfied: python-dateutil>=2.7 in /Users/vaibhavgogia/anaconda3/lib/python3.11/site-packages (from matplotlib!=3.6.1,>=3.1->seaborn) (2.8.2)\n",
      "Requirement already satisfied: pytz>=2020.1 in /Users/vaibhavgogia/anaconda3/lib/python3.11/site-packages (from pandas>=0.25->seaborn) (2023.3.post1)\n",
      "Requirement already satisfied: tzdata>=2022.1 in /Users/vaibhavgogia/anaconda3/lib/python3.11/site-packages (from pandas>=0.25->seaborn) (2023.3)\n",
      "Requirement already satisfied: six>=1.5 in /Users/vaibhavgogia/anaconda3/lib/python3.11/site-packages (from python-dateutil>=2.7->matplotlib!=3.6.1,>=3.1->seaborn) (1.16.0)\n"
     ]
    }
   ],
   "source": [
    "import csv\n",
    "!pip install scikit-learn\n",
    "!pip install pandas\n",
    "!pip install seaborn\n",
    "import numpy as np\n",
    "import tensorflow as tf\n",
    "from sklearn.model_selection import train_test_split\n",
    "\n",
    "RANDOM_SEED = 42"
   ]
  },
  {
   "cell_type": "markdown",
   "metadata": {},
   "source": [
    "# 各パス指定"
   ]
  },
  {
   "cell_type": "code",
   "execution_count": 164,
   "metadata": {},
   "outputs": [],
   "source": [
    "dataset = 'model/keypoint_classifier/keypoint.csv'\n",
    "model_save_path = 'model/keypoint_classifier/keypoint_classifier.hdf5'"
   ]
  },
  {
   "cell_type": "markdown",
   "metadata": {},
   "source": [
    "# 分類数設定"
   ]
  },
  {
   "cell_type": "code",
   "execution_count": 165,
   "metadata": {},
   "outputs": [],
   "source": [
    "NUM_CLASSES = 14"
   ]
  },
  {
   "cell_type": "markdown",
   "metadata": {},
   "source": [
    "# 学習データ読み込み"
   ]
  },
  {
   "cell_type": "code",
   "execution_count": 166,
   "metadata": {},
   "outputs": [],
   "source": [
    "X_dataset = np.loadtxt(dataset, delimiter=',', dtype='float32', usecols=list(range(1, (21 * 2) + 1)))"
   ]
  },
  {
   "cell_type": "code",
   "execution_count": 167,
   "metadata": {},
   "outputs": [],
   "source": [
    "y_dataset = np.loadtxt(dataset, delimiter=',', dtype='int32', usecols=(0))"
   ]
  },
  {
   "cell_type": "code",
   "execution_count": 168,
   "metadata": {},
   "outputs": [],
   "source": [
    "X_train, X_test, y_train, y_test = train_test_split(X_dataset, y_dataset, train_size=0.75, random_state=RANDOM_SEED)"
   ]
  },
  {
   "cell_type": "markdown",
   "metadata": {},
   "source": [
    "# モデル構築"
   ]
  },
  {
   "cell_type": "code",
   "execution_count": 169,
   "metadata": {},
   "outputs": [],
   "source": [
    "model = tf.keras.models.Sequential([\n",
    "    tf.keras.layers.Input((21 * 2, )),\n",
    "    tf.keras.layers.Dropout(0.2),\n",
    "    tf.keras.layers.Dense(20, activation='relu'),\n",
    "    tf.keras.layers.Dropout(0.4),\n",
    "    tf.keras.layers.Dense(10, activation='relu'),\n",
    "    tf.keras.layers.Dense(NUM_CLASSES, activation='softmax')\n",
    "])"
   ]
  },
  {
   "cell_type": "code",
   "execution_count": 170,
   "metadata": {},
   "outputs": [
    {
     "name": "stdout",
     "output_type": "stream",
     "text": [
      "Model: \"sequential_7\"\n",
      "_________________________________________________________________\n",
      " Layer (type)                Output Shape              Param #   \n",
      "=================================================================\n",
      " dropout_14 (Dropout)        (None, 42)                0         \n",
      "                                                                 \n",
      " dense_21 (Dense)            (None, 20)                860       \n",
      "                                                                 \n",
      " dropout_15 (Dropout)        (None, 20)                0         \n",
      "                                                                 \n",
      " dense_22 (Dense)            (None, 10)                210       \n",
      "                                                                 \n",
      " dense_23 (Dense)            (None, 14)                154       \n",
      "                                                                 \n",
      "=================================================================\n",
      "Total params: 1224 (4.78 KB)\n",
      "Trainable params: 1224 (4.78 KB)\n",
      "Non-trainable params: 0 (0.00 Byte)\n",
      "_________________________________________________________________\n"
     ]
    }
   ],
   "source": [
    "model.summary()  # tf.keras.utils.plot_model(model, show_shapes=True)"
   ]
  },
  {
   "cell_type": "code",
   "execution_count": 171,
   "metadata": {},
   "outputs": [],
   "source": [
    "# モデルチェックポイントのコールバック\n",
    "cp_callback = tf.keras.callbacks.ModelCheckpoint(\n",
    "    model_save_path, verbose=1, save_weights_only=False)\n",
    "# 早期打ち切り用コールバック\n",
    "es_callback = tf.keras.callbacks.EarlyStopping(patience=20, verbose=1)"
   ]
  },
  {
   "cell_type": "code",
   "execution_count": 172,
   "metadata": {},
   "outputs": [],
   "source": [
    "# モデルコンパイル\n",
    "model.compile(\n",
    "    optimizer='adam',\n",
    "    loss='sparse_categorical_crossentropy',\n",
    "    metrics=['accuracy']\n",
    ")"
   ]
  },
  {
   "cell_type": "markdown",
   "metadata": {},
   "source": [
    "# モデル訓練"
   ]
  },
  {
   "cell_type": "code",
   "execution_count": 173,
   "metadata": {},
   "outputs": [
    {
     "name": "stdout",
     "output_type": "stream",
     "text": [
      "Epoch 1/1000\n",
      "128/168 [=====================>........] - ETA: 0s - loss: 2.4319 - accuracy: 0.1784 \n",
      "Epoch 1: saving model to model/keypoint_classifier/keypoint_classifier.hdf5\n",
      "168/168 [==============================] - 0s 944us/step - loss: 2.3550 - accuracy: 0.2099 - val_loss: 1.8736 - val_accuracy: 0.4979\n",
      "Epoch 2/1000\n",
      "125/168 [=====================>........] - ETA: 0s - loss: 1.8557 - accuracy: 0.3853\n",
      "Epoch 2: saving model to model/keypoint_classifier/keypoint_classifier.hdf5\n",
      "168/168 [==============================] - 0s 591us/step - loss: 1.8079 - accuracy: 0.3974 - val_loss: 1.3479 - val_accuracy: 0.6168\n",
      "Epoch 3/1000\n",
      "128/168 [=====================>........] - ETA: 0s - loss: 1.5305 - accuracy: 0.4709\n",
      "Epoch 3: saving model to model/keypoint_classifier/keypoint_classifier.hdf5\n"
     ]
    },
    {
     "name": "stderr",
     "output_type": "stream",
     "text": [
      "/Library/Frameworks/Python.framework/Versions/3.11/lib/python3.11/site-packages/keras/src/engine/training.py:3103: UserWarning: You are saving your model as an HDF5 file via `model.save()`. This file format is considered legacy. We recommend using instead the native Keras format, e.g. `model.save('my_model.keras')`.\n",
      "  saving_api.save_model(\n"
     ]
    },
    {
     "name": "stdout",
     "output_type": "stream",
     "text": [
      "168/168 [==============================] - 0s 579us/step - loss: 1.5115 - accuracy: 0.4750 - val_loss: 1.1008 - val_accuracy: 0.7091\n",
      "Epoch 4/1000\n",
      "130/168 [======================>.......] - ETA: 0s - loss: 1.3778 - accuracy: 0.5163\n",
      "Epoch 4: saving model to model/keypoint_classifier/keypoint_classifier.hdf5\n",
      "168/168 [==============================] - 0s 548us/step - loss: 1.3679 - accuracy: 0.5172 - val_loss: 0.9291 - val_accuracy: 0.7457\n",
      "Epoch 5/1000\n",
      "138/168 [=======================>......] - ETA: 0s - loss: 1.2715 - accuracy: 0.5420\n",
      "Epoch 5: saving model to model/keypoint_classifier/keypoint_classifier.hdf5\n",
      "168/168 [==============================] - 0s 538us/step - loss: 1.2642 - accuracy: 0.5477 - val_loss: 0.8111 - val_accuracy: 0.7894\n",
      "Epoch 6/1000\n",
      "133/168 [======================>.......] - ETA: 0s - loss: 1.1887 - accuracy: 0.5770\n",
      "Epoch 6: saving model to model/keypoint_classifier/keypoint_classifier.hdf5\n",
      "168/168 [==============================] - 0s 550us/step - loss: 1.1829 - accuracy: 0.5781 - val_loss: 0.7227 - val_accuracy: 0.8284\n",
      "Epoch 7/1000\n",
      "134/168 [======================>.......] - ETA: 0s - loss: 1.1407 - accuracy: 0.5877\n",
      "Epoch 7: saving model to model/keypoint_classifier/keypoint_classifier.hdf5\n",
      "168/168 [==============================] - 0s 550us/step - loss: 1.1366 - accuracy: 0.5897 - val_loss: 0.6673 - val_accuracy: 0.8521\n",
      "Epoch 8/1000\n",
      "135/168 [=======================>......] - ETA: 0s - loss: 1.0912 - accuracy: 0.6087\n",
      "Epoch 8: saving model to model/keypoint_classifier/keypoint_classifier.hdf5\n",
      "168/168 [==============================] - 0s 546us/step - loss: 1.0903 - accuracy: 0.6072 - val_loss: 0.6248 - val_accuracy: 0.8553\n",
      "Epoch 9/1000\n",
      "130/168 [======================>.......] - ETA: 0s - loss: 1.0668 - accuracy: 0.6166\n",
      "Epoch 9: saving model to model/keypoint_classifier/keypoint_classifier.hdf5\n",
      "168/168 [==============================] - 0s 559us/step - loss: 1.0622 - accuracy: 0.6185 - val_loss: 0.5973 - val_accuracy: 0.8514\n",
      "Epoch 10/1000\n",
      "125/168 [=====================>........] - ETA: 0s - loss: 1.0405 - accuracy: 0.6319\n",
      "Epoch 10: saving model to model/keypoint_classifier/keypoint_classifier.hdf5\n",
      "168/168 [==============================] - 0s 563us/step - loss: 1.0341 - accuracy: 0.6323 - val_loss: 0.5722 - val_accuracy: 0.8654\n",
      "Epoch 11/1000\n",
      "137/168 [=======================>......] - ETA: 0s - loss: 1.0189 - accuracy: 0.6280\n",
      "Epoch 11: saving model to model/keypoint_classifier/keypoint_classifier.hdf5\n",
      "168/168 [==============================] - 0s 536us/step - loss: 1.0168 - accuracy: 0.6310 - val_loss: 0.5464 - val_accuracy: 0.8718\n",
      "Epoch 12/1000\n",
      "137/168 [=======================>......] - ETA: 0s - loss: 1.0016 - accuracy: 0.6370\n",
      "Epoch 12: saving model to model/keypoint_classifier/keypoint_classifier.hdf5\n",
      "168/168 [==============================] - 0s 633us/step - loss: 0.9972 - accuracy: 0.6390 - val_loss: 0.5262 - val_accuracy: 0.8732\n",
      "Epoch 13/1000\n",
      "123/168 [====================>.........] - ETA: 0s - loss: 0.9729 - accuracy: 0.6512\n",
      "Epoch 13: saving model to model/keypoint_classifier/keypoint_classifier.hdf5\n",
      "168/168 [==============================] - 0s 577us/step - loss: 0.9737 - accuracy: 0.6513 - val_loss: 0.5166 - val_accuracy: 0.8777\n",
      "Epoch 14/1000\n",
      "130/168 [======================>.......] - ETA: 0s - loss: 0.9688 - accuracy: 0.6525\n",
      "Epoch 14: saving model to model/keypoint_classifier/keypoint_classifier.hdf5\n",
      "168/168 [==============================] - 0s 560us/step - loss: 0.9730 - accuracy: 0.6522 - val_loss: 0.5051 - val_accuracy: 0.8863\n",
      "Epoch 15/1000\n",
      "131/168 [======================>.......] - ETA: 0s - loss: 0.9530 - accuracy: 0.6568\n",
      "Epoch 15: saving model to model/keypoint_classifier/keypoint_classifier.hdf5\n",
      "168/168 [==============================] - 0s 572us/step - loss: 0.9510 - accuracy: 0.6582 - val_loss: 0.4893 - val_accuracy: 0.8874\n",
      "Epoch 16/1000\n",
      "133/168 [======================>.......] - ETA: 0s - loss: 0.9394 - accuracy: 0.6635\n",
      "Epoch 16: saving model to model/keypoint_classifier/keypoint_classifier.hdf5\n",
      "168/168 [==============================] - 0s 547us/step - loss: 0.9393 - accuracy: 0.6657 - val_loss: 0.4813 - val_accuracy: 0.9001\n",
      "Epoch 17/1000\n",
      "135/168 [=======================>......] - ETA: 0s - loss: 0.9330 - accuracy: 0.6663\n",
      "Epoch 17: saving model to model/keypoint_classifier/keypoint_classifier.hdf5\n",
      "168/168 [==============================] - 0s 549us/step - loss: 0.9380 - accuracy: 0.6652 - val_loss: 0.4727 - val_accuracy: 0.9006\n",
      "Epoch 18/1000\n",
      "136/168 [=======================>......] - ETA: 0s - loss: 0.9173 - accuracy: 0.6757\n",
      "Epoch 18: saving model to model/keypoint_classifier/keypoint_classifier.hdf5\n",
      "168/168 [==============================] - 0s 544us/step - loss: 0.9197 - accuracy: 0.6738 - val_loss: 0.4663 - val_accuracy: 0.9096\n",
      "Epoch 19/1000\n",
      "139/168 [=======================>......] - ETA: 0s - loss: 0.9214 - accuracy: 0.6729\n",
      "Epoch 19: saving model to model/keypoint_classifier/keypoint_classifier.hdf5\n",
      "168/168 [==============================] - 0s 535us/step - loss: 0.9262 - accuracy: 0.6727 - val_loss: 0.4574 - val_accuracy: 0.8990\n",
      "Epoch 20/1000\n",
      "130/168 [======================>.......] - ETA: 0s - loss: 0.9157 - accuracy: 0.6778\n",
      "Epoch 20: saving model to model/keypoint_classifier/keypoint_classifier.hdf5\n",
      "168/168 [==============================] - 0s 568us/step - loss: 0.9119 - accuracy: 0.6814 - val_loss: 0.4441 - val_accuracy: 0.9128\n",
      "Epoch 21/1000\n",
      "130/168 [======================>.......] - ETA: 0s - loss: 0.8991 - accuracy: 0.6782\n",
      "Epoch 21: saving model to model/keypoint_classifier/keypoint_classifier.hdf5\n",
      "168/168 [==============================] - 0s 551us/step - loss: 0.9015 - accuracy: 0.6784 - val_loss: 0.4418 - val_accuracy: 0.9168\n",
      "Epoch 22/1000\n",
      "126/168 [=====================>........] - ETA: 0s - loss: 0.9011 - accuracy: 0.6848\n",
      "Epoch 22: saving model to model/keypoint_classifier/keypoint_classifier.hdf5\n",
      "168/168 [==============================] - 0s 568us/step - loss: 0.8943 - accuracy: 0.6856 - val_loss: 0.4375 - val_accuracy: 0.9158\n",
      "Epoch 23/1000\n",
      "132/168 [======================>.......] - ETA: 0s - loss: 0.8900 - accuracy: 0.6891\n",
      "Epoch 23: saving model to model/keypoint_classifier/keypoint_classifier.hdf5\n",
      "168/168 [==============================] - 0s 567us/step - loss: 0.8916 - accuracy: 0.6889 - val_loss: 0.4301 - val_accuracy: 0.9179\n",
      "Epoch 24/1000\n",
      "130/168 [======================>.......] - ETA: 0s - loss: 0.8864 - accuracy: 0.6877\n",
      "Epoch 24: saving model to model/keypoint_classifier/keypoint_classifier.hdf5\n",
      "168/168 [==============================] - 0s 556us/step - loss: 0.8809 - accuracy: 0.6904 - val_loss: 0.4286 - val_accuracy: 0.9196\n",
      "Epoch 25/1000\n",
      "131/168 [======================>.......] - ETA: 0s - loss: 0.8818 - accuracy: 0.6905\n",
      "Epoch 25: saving model to model/keypoint_classifier/keypoint_classifier.hdf5\n",
      "168/168 [==============================] - 0s 541us/step - loss: 0.8860 - accuracy: 0.6913 - val_loss: 0.4257 - val_accuracy: 0.9193\n",
      "Epoch 26/1000\n",
      "139/168 [=======================>......] - ETA: 0s - loss: 0.8732 - accuracy: 0.6957\n",
      "Epoch 26: saving model to model/keypoint_classifier/keypoint_classifier.hdf5\n",
      "168/168 [==============================] - 0s 527us/step - loss: 0.8736 - accuracy: 0.6948 - val_loss: 0.4203 - val_accuracy: 0.9193\n",
      "Epoch 27/1000\n",
      "138/168 [=======================>......] - ETA: 0s - loss: 0.8708 - accuracy: 0.6958\n",
      "Epoch 27: saving model to model/keypoint_classifier/keypoint_classifier.hdf5\n",
      "168/168 [==============================] - 0s 528us/step - loss: 0.8720 - accuracy: 0.6959 - val_loss: 0.4140 - val_accuracy: 0.9223\n",
      "Epoch 28/1000\n",
      "139/168 [=======================>......] - ETA: 0s - loss: 0.8720 - accuracy: 0.6982\n",
      "Epoch 28: saving model to model/keypoint_classifier/keypoint_classifier.hdf5\n",
      "168/168 [==============================] - 0s 531us/step - loss: 0.8670 - accuracy: 0.6993 - val_loss: 0.4163 - val_accuracy: 0.9063\n",
      "Epoch 29/1000\n",
      "132/168 [======================>.......] - ETA: 0s - loss: 0.8667 - accuracy: 0.6989\n",
      "Epoch 29: saving model to model/keypoint_classifier/keypoint_classifier.hdf5\n",
      "168/168 [==============================] - 0s 545us/step - loss: 0.8673 - accuracy: 0.6995 - val_loss: 0.4059 - val_accuracy: 0.9260\n",
      "Epoch 30/1000\n",
      "133/168 [======================>.......] - ETA: 0s - loss: 0.8470 - accuracy: 0.7069\n",
      "Epoch 30: saving model to model/keypoint_classifier/keypoint_classifier.hdf5\n",
      "168/168 [==============================] - 0s 548us/step - loss: 0.8494 - accuracy: 0.7057 - val_loss: 0.4096 - val_accuracy: 0.9203\n",
      "Epoch 31/1000\n",
      "131/168 [======================>.......] - ETA: 0s - loss: 0.8519 - accuracy: 0.7078\n",
      "Epoch 31: saving model to model/keypoint_classifier/keypoint_classifier.hdf5\n",
      "168/168 [==============================] - 0s 553us/step - loss: 0.8543 - accuracy: 0.7068 - val_loss: 0.4049 - val_accuracy: 0.9201\n",
      "Epoch 32/1000\n",
      "135/168 [=======================>......] - ETA: 0s - loss: 0.8440 - accuracy: 0.7075\n",
      "Epoch 32: saving model to model/keypoint_classifier/keypoint_classifier.hdf5\n",
      "168/168 [==============================] - 0s 544us/step - loss: 0.8436 - accuracy: 0.7075 - val_loss: 0.3891 - val_accuracy: 0.9253\n",
      "Epoch 33/1000\n",
      "136/168 [=======================>......] - ETA: 0s - loss: 0.8488 - accuracy: 0.7098\n",
      "Epoch 33: saving model to model/keypoint_classifier/keypoint_classifier.hdf5\n",
      "168/168 [==============================] - 0s 534us/step - loss: 0.8427 - accuracy: 0.7127 - val_loss: 0.3924 - val_accuracy: 0.9207\n",
      "Epoch 34/1000\n",
      "138/168 [=======================>......] - ETA: 0s - loss: 0.8415 - accuracy: 0.7089\n",
      "Epoch 34: saving model to model/keypoint_classifier/keypoint_classifier.hdf5\n",
      "168/168 [==============================] - 0s 526us/step - loss: 0.8395 - accuracy: 0.7108 - val_loss: 0.3805 - val_accuracy: 0.9247\n",
      "Epoch 35/1000\n",
      "139/168 [=======================>......] - ETA: 0s - loss: 0.8382 - accuracy: 0.7149\n",
      "Epoch 35: saving model to model/keypoint_classifier/keypoint_classifier.hdf5\n",
      "168/168 [==============================] - 0s 530us/step - loss: 0.8358 - accuracy: 0.7156 - val_loss: 0.3826 - val_accuracy: 0.9236\n",
      "Epoch 36/1000\n",
      "133/168 [======================>.......] - ETA: 0s - loss: 0.8310 - accuracy: 0.7154\n",
      "Epoch 36: saving model to model/keypoint_classifier/keypoint_classifier.hdf5\n",
      "168/168 [==============================] - 0s 550us/step - loss: 0.8362 - accuracy: 0.7130 - val_loss: 0.3911 - val_accuracy: 0.9218\n",
      "Epoch 37/1000\n",
      "135/168 [=======================>......] - ETA: 0s - loss: 0.8231 - accuracy: 0.7188\n",
      "Epoch 37: saving model to model/keypoint_classifier/keypoint_classifier.hdf5\n",
      "168/168 [==============================] - 0s 543us/step - loss: 0.8251 - accuracy: 0.7187 - val_loss: 0.3755 - val_accuracy: 0.9256\n",
      "Epoch 38/1000\n",
      "135/168 [=======================>......] - ETA: 0s - loss: 0.8348 - accuracy: 0.7208\n",
      "Epoch 38: saving model to model/keypoint_classifier/keypoint_classifier.hdf5\n",
      "168/168 [==============================] - 0s 531us/step - loss: 0.8329 - accuracy: 0.7199 - val_loss: 0.3821 - val_accuracy: 0.9263\n",
      "Epoch 39/1000\n",
      "141/168 [========================>.....] - ETA: 0s - loss: 0.8235 - accuracy: 0.7174\n",
      "Epoch 39: saving model to model/keypoint_classifier/keypoint_classifier.hdf5\n",
      "168/168 [==============================] - 0s 524us/step - loss: 0.8288 - accuracy: 0.7170 - val_loss: 0.3811 - val_accuracy: 0.9257\n",
      "Epoch 40/1000\n",
      "139/168 [=======================>......] - ETA: 0s - loss: 0.8202 - accuracy: 0.7171\n",
      "Epoch 40: saving model to model/keypoint_classifier/keypoint_classifier.hdf5\n",
      "168/168 [==============================] - 0s 524us/step - loss: 0.8236 - accuracy: 0.7158 - val_loss: 0.3754 - val_accuracy: 0.9261\n",
      "Epoch 41/1000\n",
      "136/168 [=======================>......] - ETA: 0s - loss: 0.8097 - accuracy: 0.7227\n",
      "Epoch 41: saving model to model/keypoint_classifier/keypoint_classifier.hdf5\n",
      "168/168 [==============================] - 0s 546us/step - loss: 0.8206 - accuracy: 0.7195 - val_loss: 0.3722 - val_accuracy: 0.9257\n",
      "Epoch 42/1000\n",
      "134/168 [======================>.......] - ETA: 0s - loss: 0.8130 - accuracy: 0.7241\n",
      "Epoch 42: saving model to model/keypoint_classifier/keypoint_classifier.hdf5\n",
      "168/168 [==============================] - 0s 544us/step - loss: 0.8165 - accuracy: 0.7234 - val_loss: 0.3704 - val_accuracy: 0.9230\n",
      "Epoch 43/1000\n",
      "134/168 [======================>.......] - ETA: 0s - loss: 0.8032 - accuracy: 0.7252\n",
      "Epoch 43: saving model to model/keypoint_classifier/keypoint_classifier.hdf5\n",
      "168/168 [==============================] - 0s 547us/step - loss: 0.8034 - accuracy: 0.7243 - val_loss: 0.3752 - val_accuracy: 0.9200\n",
      "Epoch 44/1000\n",
      "139/168 [=======================>......] - ETA: 0s - loss: 0.8197 - accuracy: 0.7243\n",
      "Epoch 44: saving model to model/keypoint_classifier/keypoint_classifier.hdf5\n",
      "168/168 [==============================] - 0s 526us/step - loss: 0.8115 - accuracy: 0.7265 - val_loss: 0.3749 - val_accuracy: 0.9233\n",
      "Epoch 45/1000\n",
      "140/168 [========================>.....] - ETA: 0s - loss: 0.8067 - accuracy: 0.7267\n",
      "Epoch 45: saving model to model/keypoint_classifier/keypoint_classifier.hdf5\n",
      "168/168 [==============================] - 0s 518us/step - loss: 0.8104 - accuracy: 0.7257 - val_loss: 0.3614 - val_accuracy: 0.9251\n",
      "Epoch 46/1000\n",
      "142/168 [========================>.....] - ETA: 0s - loss: 0.8121 - accuracy: 0.7217\n",
      "Epoch 46: saving model to model/keypoint_classifier/keypoint_classifier.hdf5\n",
      "168/168 [==============================] - 0s 520us/step - loss: 0.8074 - accuracy: 0.7231 - val_loss: 0.3625 - val_accuracy: 0.9236\n",
      "Epoch 47/1000\n",
      "139/168 [=======================>......] - ETA: 0s - loss: 0.7976 - accuracy: 0.7295\n",
      "Epoch 47: saving model to model/keypoint_classifier/keypoint_classifier.hdf5\n",
      "168/168 [==============================] - 0s 528us/step - loss: 0.8033 - accuracy: 0.7274 - val_loss: 0.3631 - val_accuracy: 0.9275\n",
      "Epoch 48/1000\n",
      "134/168 [======================>.......] - ETA: 0s - loss: 0.8146 - accuracy: 0.7220\n",
      "Epoch 48: saving model to model/keypoint_classifier/keypoint_classifier.hdf5\n",
      "168/168 [==============================] - 0s 544us/step - loss: 0.8131 - accuracy: 0.7241 - val_loss: 0.3634 - val_accuracy: 0.9222\n",
      "Epoch 49/1000\n",
      "135/168 [=======================>......] - ETA: 0s - loss: 0.7957 - accuracy: 0.7309\n",
      "Epoch 49: saving model to model/keypoint_classifier/keypoint_classifier.hdf5\n",
      "168/168 [==============================] - 0s 541us/step - loss: 0.7939 - accuracy: 0.7297 - val_loss: 0.3610 - val_accuracy: 0.9196\n",
      "Epoch 50/1000\n",
      "136/168 [=======================>......] - ETA: 0s - loss: 0.7920 - accuracy: 0.7287\n",
      "Epoch 50: saving model to model/keypoint_classifier/keypoint_classifier.hdf5\n",
      "168/168 [==============================] - 0s 533us/step - loss: 0.8009 - accuracy: 0.7272 - val_loss: 0.3664 - val_accuracy: 0.9237\n",
      "Epoch 51/1000\n",
      "143/168 [========================>.....] - ETA: 0s - loss: 0.7856 - accuracy: 0.7343\n",
      "Epoch 51: saving model to model/keypoint_classifier/keypoint_classifier.hdf5\n",
      "168/168 [==============================] - 0s 517us/step - loss: 0.7913 - accuracy: 0.7328 - val_loss: 0.3624 - val_accuracy: 0.9237\n",
      "Epoch 52/1000\n",
      "139/168 [=======================>......] - ETA: 0s - loss: 0.7931 - accuracy: 0.7282\n",
      "Epoch 52: saving model to model/keypoint_classifier/keypoint_classifier.hdf5\n",
      "168/168 [==============================] - 0s 525us/step - loss: 0.7941 - accuracy: 0.7290 - val_loss: 0.3590 - val_accuracy: 0.9233\n",
      "Epoch 53/1000\n",
      "140/168 [========================>.....] - ETA: 0s - loss: 0.7926 - accuracy: 0.7284\n",
      "Epoch 53: saving model to model/keypoint_classifier/keypoint_classifier.hdf5\n",
      "168/168 [==============================] - 0s 528us/step - loss: 0.7963 - accuracy: 0.7297 - val_loss: 0.3595 - val_accuracy: 0.9254\n",
      "Epoch 54/1000\n",
      "134/168 [======================>.......] - ETA: 0s - loss: 0.7802 - accuracy: 0.7334\n",
      "Epoch 54: saving model to model/keypoint_classifier/keypoint_classifier.hdf5\n",
      "168/168 [==============================] - 0s 545us/step - loss: 0.7849 - accuracy: 0.7336 - val_loss: 0.3578 - val_accuracy: 0.9249\n",
      "Epoch 55/1000\n",
      "134/168 [======================>.......] - ETA: 0s - loss: 0.7924 - accuracy: 0.7344\n",
      "Epoch 55: saving model to model/keypoint_classifier/keypoint_classifier.hdf5\n",
      "168/168 [==============================] - 0s 540us/step - loss: 0.7883 - accuracy: 0.7355 - val_loss: 0.3540 - val_accuracy: 0.9137\n",
      "Epoch 56/1000\n",
      "136/168 [=======================>......] - ETA: 0s - loss: 0.7815 - accuracy: 0.7359\n",
      "Epoch 56: saving model to model/keypoint_classifier/keypoint_classifier.hdf5\n",
      "168/168 [==============================] - 0s 529us/step - loss: 0.7893 - accuracy: 0.7335 - val_loss: 0.3616 - val_accuracy: 0.9240\n",
      "Epoch 57/1000\n",
      "139/168 [=======================>......] - ETA: 0s - loss: 0.7860 - accuracy: 0.7348\n",
      "Epoch 57: saving model to model/keypoint_classifier/keypoint_classifier.hdf5\n",
      "168/168 [==============================] - 0s 526us/step - loss: 0.7839 - accuracy: 0.7359 - val_loss: 0.3640 - val_accuracy: 0.9133\n",
      "Epoch 58/1000\n",
      "141/168 [========================>.....] - ETA: 0s - loss: 0.7831 - accuracy: 0.7366\n",
      "Epoch 58: saving model to model/keypoint_classifier/keypoint_classifier.hdf5\n",
      "168/168 [==============================] - 0s 525us/step - loss: 0.7890 - accuracy: 0.7361 - val_loss: 0.3530 - val_accuracy: 0.9235\n",
      "Epoch 59/1000\n",
      "136/168 [=======================>......] - ETA: 0s - loss: 0.7718 - accuracy: 0.7408\n",
      "Epoch 59: saving model to model/keypoint_classifier/keypoint_classifier.hdf5\n",
      "168/168 [==============================] - 0s 541us/step - loss: 0.7763 - accuracy: 0.7402 - val_loss: 0.3475 - val_accuracy: 0.9265\n",
      "Epoch 60/1000\n",
      " 88/168 [==============>...............] - ETA: 0s - loss: 0.7926 - accuracy: 0.7357\n",
      "Epoch 60: saving model to model/keypoint_classifier/keypoint_classifier.hdf5\n",
      "168/168 [==============================] - 0s 645us/step - loss: 0.7819 - accuracy: 0.7370 - val_loss: 0.3494 - val_accuracy: 0.9221\n",
      "Epoch 61/1000\n",
      "139/168 [=======================>......] - ETA: 0s - loss: 0.7819 - accuracy: 0.7367\n",
      "Epoch 61: saving model to model/keypoint_classifier/keypoint_classifier.hdf5\n",
      "168/168 [==============================] - 0s 527us/step - loss: 0.7813 - accuracy: 0.7364 - val_loss: 0.3521 - val_accuracy: 0.9226\n",
      "Epoch 62/1000\n",
      "140/168 [========================>.....] - ETA: 0s - loss: 0.7701 - accuracy: 0.7436\n",
      "Epoch 62: saving model to model/keypoint_classifier/keypoint_classifier.hdf5\n",
      "168/168 [==============================] - 0s 524us/step - loss: 0.7708 - accuracy: 0.7431 - val_loss: 0.3510 - val_accuracy: 0.9208\n",
      "Epoch 63/1000\n",
      "141/168 [========================>.....] - ETA: 0s - loss: 0.7819 - accuracy: 0.7425\n",
      "Epoch 63: saving model to model/keypoint_classifier/keypoint_classifier.hdf5\n",
      "168/168 [==============================] - 0s 518us/step - loss: 0.7813 - accuracy: 0.7407 - val_loss: 0.3535 - val_accuracy: 0.9288\n",
      "Epoch 64/1000\n",
      "137/168 [=======================>......] - ETA: 0s - loss: 0.7730 - accuracy: 0.7420\n",
      "Epoch 64: saving model to model/keypoint_classifier/keypoint_classifier.hdf5\n",
      "168/168 [==============================] - 0s 529us/step - loss: 0.7687 - accuracy: 0.7421 - val_loss: 0.3538 - val_accuracy: 0.9211\n",
      "Epoch 65/1000\n",
      "139/168 [=======================>......] - ETA: 0s - loss: 0.7728 - accuracy: 0.7439\n",
      "Epoch 65: saving model to model/keypoint_classifier/keypoint_classifier.hdf5\n",
      "168/168 [==============================] - 0s 523us/step - loss: 0.7704 - accuracy: 0.7436 - val_loss: 0.3461 - val_accuracy: 0.9223\n",
      "Epoch 66/1000\n",
      "139/168 [=======================>......] - ETA: 0s - loss: 0.7652 - accuracy: 0.7450\n",
      "Epoch 66: saving model to model/keypoint_classifier/keypoint_classifier.hdf5\n",
      "168/168 [==============================] - 0s 524us/step - loss: 0.7685 - accuracy: 0.7426 - val_loss: 0.3465 - val_accuracy: 0.9249\n",
      "Epoch 67/1000\n",
      "141/168 [========================>.....] - ETA: 0s - loss: 0.7660 - accuracy: 0.7447\n",
      "Epoch 67: saving model to model/keypoint_classifier/keypoint_classifier.hdf5\n",
      "168/168 [==============================] - 0s 521us/step - loss: 0.7724 - accuracy: 0.7415 - val_loss: 0.3466 - val_accuracy: 0.9243\n",
      "Epoch 68/1000\n",
      "140/168 [========================>.....] - ETA: 0s - loss: 0.7549 - accuracy: 0.7445\n",
      "Epoch 68: saving model to model/keypoint_classifier/keypoint_classifier.hdf5\n",
      "168/168 [==============================] - 0s 516us/step - loss: 0.7595 - accuracy: 0.7435 - val_loss: 0.3455 - val_accuracy: 0.9297\n",
      "Epoch 69/1000\n",
      "141/168 [========================>.....] - ETA: 0s - loss: 0.7635 - accuracy: 0.7450\n",
      "Epoch 69: saving model to model/keypoint_classifier/keypoint_classifier.hdf5\n",
      "168/168 [==============================] - 0s 522us/step - loss: 0.7718 - accuracy: 0.7428 - val_loss: 0.3512 - val_accuracy: 0.9251\n",
      "Epoch 70/1000\n",
      "142/168 [========================>.....] - ETA: 0s - loss: 0.7697 - accuracy: 0.7411\n",
      "Epoch 70: saving model to model/keypoint_classifier/keypoint_classifier.hdf5\n",
      "168/168 [==============================] - 0s 515us/step - loss: 0.7686 - accuracy: 0.7421 - val_loss: 0.3534 - val_accuracy: 0.9216\n",
      "Epoch 71/1000\n",
      "139/168 [=======================>......] - ETA: 0s - loss: 0.7534 - accuracy: 0.7506\n",
      "Epoch 71: saving model to model/keypoint_classifier/keypoint_classifier.hdf5\n",
      "168/168 [==============================] - 0s 520us/step - loss: 0.7544 - accuracy: 0.7508 - val_loss: 0.3407 - val_accuracy: 0.9226\n",
      "Epoch 72/1000\n",
      "140/168 [========================>.....] - ETA: 0s - loss: 0.7620 - accuracy: 0.7461\n",
      "Epoch 72: saving model to model/keypoint_classifier/keypoint_classifier.hdf5\n",
      "168/168 [==============================] - 0s 526us/step - loss: 0.7594 - accuracy: 0.7460 - val_loss: 0.3484 - val_accuracy: 0.9260\n",
      "Epoch 73/1000\n",
      "138/168 [=======================>......] - ETA: 0s - loss: 0.7641 - accuracy: 0.7467\n",
      "Epoch 73: saving model to model/keypoint_classifier/keypoint_classifier.hdf5\n",
      "168/168 [==============================] - 0s 530us/step - loss: 0.7591 - accuracy: 0.7468 - val_loss: 0.3426 - val_accuracy: 0.9221\n",
      "Epoch 74/1000\n",
      "138/168 [=======================>......] - ETA: 0s - loss: 0.7567 - accuracy: 0.7459\n",
      "Epoch 74: saving model to model/keypoint_classifier/keypoint_classifier.hdf5\n",
      "168/168 [==============================] - 0s 538us/step - loss: 0.7572 - accuracy: 0.7463 - val_loss: 0.3520 - val_accuracy: 0.9201\n",
      "Epoch 75/1000\n",
      "136/168 [=======================>......] - ETA: 0s - loss: 0.7610 - accuracy: 0.7449\n",
      "Epoch 75: saving model to model/keypoint_classifier/keypoint_classifier.hdf5\n",
      "168/168 [==============================] - 0s 534us/step - loss: 0.7619 - accuracy: 0.7439 - val_loss: 0.3468 - val_accuracy: 0.9198\n",
      "Epoch 76/1000\n",
      "139/168 [=======================>......] - ETA: 0s - loss: 0.7586 - accuracy: 0.7487\n",
      "Epoch 76: saving model to model/keypoint_classifier/keypoint_classifier.hdf5\n",
      "168/168 [==============================] - 0s 527us/step - loss: 0.7536 - accuracy: 0.7491 - val_loss: 0.3573 - val_accuracy: 0.9211\n",
      "Epoch 77/1000\n",
      "139/168 [=======================>......] - ETA: 0s - loss: 0.7649 - accuracy: 0.7441\n",
      "Epoch 77: saving model to model/keypoint_classifier/keypoint_classifier.hdf5\n",
      "168/168 [==============================] - 0s 521us/step - loss: 0.7668 - accuracy: 0.7433 - val_loss: 0.3509 - val_accuracy: 0.9168\n",
      "Epoch 78/1000\n",
      "140/168 [========================>.....] - ETA: 0s - loss: 0.7496 - accuracy: 0.7517\n",
      "Epoch 78: saving model to model/keypoint_classifier/keypoint_classifier.hdf5\n",
      "168/168 [==============================] - 0s 520us/step - loss: 0.7485 - accuracy: 0.7518 - val_loss: 0.3433 - val_accuracy: 0.9249\n",
      "Epoch 79/1000\n",
      "140/168 [========================>.....] - ETA: 0s - loss: 0.7577 - accuracy: 0.7484\n",
      "Epoch 79: saving model to model/keypoint_classifier/keypoint_classifier.hdf5\n",
      "168/168 [==============================] - 0s 522us/step - loss: 0.7554 - accuracy: 0.7483 - val_loss: 0.3489 - val_accuracy: 0.9207\n",
      "Epoch 80/1000\n",
      "141/168 [========================>.....] - ETA: 0s - loss: 0.7581 - accuracy: 0.7492\n",
      "Epoch 80: saving model to model/keypoint_classifier/keypoint_classifier.hdf5\n",
      "168/168 [==============================] - 0s 522us/step - loss: 0.7552 - accuracy: 0.7502 - val_loss: 0.3524 - val_accuracy: 0.9176\n",
      "Epoch 81/1000\n",
      "143/168 [========================>.....] - ETA: 0s - loss: 0.7512 - accuracy: 0.7481\n",
      "Epoch 81: saving model to model/keypoint_classifier/keypoint_classifier.hdf5\n",
      "168/168 [==============================] - 0s 514us/step - loss: 0.7531 - accuracy: 0.7477 - val_loss: 0.3543 - val_accuracy: 0.9232\n",
      "Epoch 82/1000\n",
      "140/168 [========================>.....] - ETA: 0s - loss: 0.7497 - accuracy: 0.7511\n",
      "Epoch 82: saving model to model/keypoint_classifier/keypoint_classifier.hdf5\n",
      "168/168 [==============================] - 0s 523us/step - loss: 0.7548 - accuracy: 0.7487 - val_loss: 0.3481 - val_accuracy: 0.9200\n",
      "Epoch 83/1000\n",
      "136/168 [=======================>......] - ETA: 0s - loss: 0.7657 - accuracy: 0.7449\n",
      "Epoch 83: saving model to model/keypoint_classifier/keypoint_classifier.hdf5\n",
      "168/168 [==============================] - 0s 536us/step - loss: 0.7590 - accuracy: 0.7473 - val_loss: 0.3518 - val_accuracy: 0.9203\n",
      "Epoch 84/1000\n",
      "136/168 [=======================>......] - ETA: 0s - loss: 0.7614 - accuracy: 0.7486\n",
      "Epoch 84: saving model to model/keypoint_classifier/keypoint_classifier.hdf5\n",
      "168/168 [==============================] - 0s 534us/step - loss: 0.7637 - accuracy: 0.7476 - val_loss: 0.3479 - val_accuracy: 0.9196\n",
      "Epoch 85/1000\n",
      "137/168 [=======================>......] - ETA: 0s - loss: 0.7536 - accuracy: 0.7491\n",
      "Epoch 85: saving model to model/keypoint_classifier/keypoint_classifier.hdf5\n",
      "168/168 [==============================] - 0s 524us/step - loss: 0.7502 - accuracy: 0.7518 - val_loss: 0.3497 - val_accuracy: 0.9211\n",
      "Epoch 86/1000\n",
      "140/168 [========================>.....] - ETA: 0s - loss: 0.7620 - accuracy: 0.7455\n",
      "Epoch 86: saving model to model/keypoint_classifier/keypoint_classifier.hdf5\n",
      "168/168 [==============================] - 0s 525us/step - loss: 0.7576 - accuracy: 0.7468 - val_loss: 0.3479 - val_accuracy: 0.9235\n",
      "Epoch 87/1000\n",
      "142/168 [========================>.....] - ETA: 0s - loss: 0.7488 - accuracy: 0.7494\n",
      "Epoch 87: saving model to model/keypoint_classifier/keypoint_classifier.hdf5\n",
      "168/168 [==============================] - 0s 513us/step - loss: 0.7471 - accuracy: 0.7508 - val_loss: 0.3451 - val_accuracy: 0.9189\n",
      "Epoch 88/1000\n",
      "142/168 [========================>.....] - ETA: 0s - loss: 0.7422 - accuracy: 0.7508\n",
      "Epoch 88: saving model to model/keypoint_classifier/keypoint_classifier.hdf5\n",
      "168/168 [==============================] - 0s 514us/step - loss: 0.7476 - accuracy: 0.7482 - val_loss: 0.3455 - val_accuracy: 0.9211\n",
      "Epoch 89/1000\n",
      "141/168 [========================>.....] - ETA: 0s - loss: 0.7606 - accuracy: 0.7486\n",
      "Epoch 89: saving model to model/keypoint_classifier/keypoint_classifier.hdf5\n",
      "168/168 [==============================] - 0s 513us/step - loss: 0.7598 - accuracy: 0.7492 - val_loss: 0.3530 - val_accuracy: 0.9236\n",
      "Epoch 90/1000\n",
      "141/168 [========================>.....] - ETA: 0s - loss: 0.7499 - accuracy: 0.7487\n",
      "Epoch 90: saving model to model/keypoint_classifier/keypoint_classifier.hdf5\n",
      "168/168 [==============================] - 0s 517us/step - loss: 0.7541 - accuracy: 0.7485 - val_loss: 0.3531 - val_accuracy: 0.9172\n",
      "Epoch 91/1000\n",
      "141/168 [========================>.....] - ETA: 0s - loss: 0.7382 - accuracy: 0.7534\n",
      "Epoch 91: saving model to model/keypoint_classifier/keypoint_classifier.hdf5\n",
      "168/168 [==============================] - 0s 516us/step - loss: 0.7389 - accuracy: 0.7534 - val_loss: 0.3536 - val_accuracy: 0.9193\n",
      "Epoch 91: early stopping\n"
     ]
    },
    {
     "data": {
      "text/plain": [
       "<keras.src.callbacks.History at 0x36c23c690>"
      ]
     },
     "execution_count": 173,
     "metadata": {},
     "output_type": "execute_result"
    }
   ],
   "source": [
    "model.fit(\n",
    "    X_train,\n",
    "    y_train,\n",
    "    epochs=1000,\n",
    "    batch_size=128,\n",
    "    validation_data=(X_test, y_test),\n",
    "    callbacks=[cp_callback, es_callback]\n",
    ")"
   ]
  },
  {
   "cell_type": "code",
   "execution_count": 174,
   "metadata": {},
   "outputs": [
    {
     "name": "stdout",
     "output_type": "stream",
     "text": [
      "56/56 [==============================] - 0s 289us/step - loss: 0.3536 - accuracy: 0.9193\n"
     ]
    }
   ],
   "source": [
    "# モデル評価\n",
    "val_loss, val_acc = model.evaluate(X_test, y_test, batch_size=128)"
   ]
  },
  {
   "cell_type": "code",
   "execution_count": 175,
   "metadata": {},
   "outputs": [],
   "source": [
    "# 保存したモデルのロード\n",
    "model = tf.keras.models.load_model(model_save_path)"
   ]
  },
  {
   "cell_type": "code",
   "execution_count": 176,
   "metadata": {},
   "outputs": [
    {
     "name": "stdout",
     "output_type": "stream",
     "text": [
      "1/1 [==============================] - 0s 22ms/step\n",
      "[1.7338808e-06 1.5987702e-02 2.9364950e-04 3.1388341e-03 4.4648026e-04\n",
      " 5.3474307e-04 6.1034447e-01 1.1922931e-07 4.8005478e-15 1.0457601e-06\n",
      " 5.1548882e-10 1.9614700e-04 3.6905470e-01 3.4618139e-07]\n",
      "6\n"
     ]
    }
   ],
   "source": [
    "# 推論テスト\n",
    "predict_result = model.predict(np.array([X_test[0]]))\n",
    "print(np.squeeze(predict_result))\n",
    "print(np.argmax(np.squeeze(predict_result)))"
   ]
  },
  {
   "cell_type": "markdown",
   "metadata": {},
   "source": [
    "# 混同行列"
   ]
  },
  {
   "cell_type": "code",
   "execution_count": 177,
   "metadata": {},
   "outputs": [
    {
     "name": "stdout",
     "output_type": "stream",
     "text": [
      "Requirement already satisfied: pandas in /Library/Frameworks/Python.framework/Versions/3.11/lib/python3.11/site-packages (2.2.1)\n",
      "Requirement already satisfied: numpy<2,>=1.23.2 in /Library/Frameworks/Python.framework/Versions/3.11/lib/python3.11/site-packages (from pandas) (1.26.4)\n",
      "Requirement already satisfied: python-dateutil>=2.8.2 in /Library/Frameworks/Python.framework/Versions/3.11/lib/python3.11/site-packages (from pandas) (2.9.0.post0)\n",
      "Requirement already satisfied: pytz>=2020.1 in /Library/Frameworks/Python.framework/Versions/3.11/lib/python3.11/site-packages (from pandas) (2024.1)\n",
      "Requirement already satisfied: tzdata>=2022.7 in /Library/Frameworks/Python.framework/Versions/3.11/lib/python3.11/site-packages (from pandas) (2024.1)\n",
      "Requirement already satisfied: six>=1.5 in /Library/Frameworks/Python.framework/Versions/3.11/lib/python3.11/site-packages (from python-dateutil>=2.8.2->pandas) (1.16.0)\n",
      "\n",
      "\u001b[1m[\u001b[0m\u001b[34;49mnotice\u001b[0m\u001b[1;39;49m]\u001b[0m\u001b[39;49m A new release of pip available: \u001b[0m\u001b[31;49m22.3\u001b[0m\u001b[39;49m -> \u001b[0m\u001b[32;49m24.0\u001b[0m\n",
      "\u001b[1m[\u001b[0m\u001b[34;49mnotice\u001b[0m\u001b[1;39;49m]\u001b[0m\u001b[39;49m To update, run: \u001b[0m\u001b[32;49mpip3 install --upgrade pip\u001b[0m\n",
      "Requirement already satisfied: seaborn in /Library/Frameworks/Python.framework/Versions/3.11/lib/python3.11/site-packages (0.13.2)\n",
      "Requirement already satisfied: numpy!=1.24.0,>=1.20 in /Library/Frameworks/Python.framework/Versions/3.11/lib/python3.11/site-packages (from seaborn) (1.26.4)\n",
      "Requirement already satisfied: pandas>=1.2 in /Library/Frameworks/Python.framework/Versions/3.11/lib/python3.11/site-packages (from seaborn) (2.2.1)\n",
      "Requirement already satisfied: matplotlib!=3.6.1,>=3.4 in /Library/Frameworks/Python.framework/Versions/3.11/lib/python3.11/site-packages (from seaborn) (3.8.3)\n",
      "Requirement already satisfied: contourpy>=1.0.1 in /Library/Frameworks/Python.framework/Versions/3.11/lib/python3.11/site-packages (from matplotlib!=3.6.1,>=3.4->seaborn) (1.2.0)\n",
      "Requirement already satisfied: cycler>=0.10 in /Library/Frameworks/Python.framework/Versions/3.11/lib/python3.11/site-packages (from matplotlib!=3.6.1,>=3.4->seaborn) (0.12.1)\n",
      "Requirement already satisfied: fonttools>=4.22.0 in /Library/Frameworks/Python.framework/Versions/3.11/lib/python3.11/site-packages (from matplotlib!=3.6.1,>=3.4->seaborn) (4.49.0)\n",
      "Requirement already satisfied: kiwisolver>=1.3.1 in /Library/Frameworks/Python.framework/Versions/3.11/lib/python3.11/site-packages (from matplotlib!=3.6.1,>=3.4->seaborn) (1.4.5)\n",
      "Requirement already satisfied: packaging>=20.0 in /Library/Frameworks/Python.framework/Versions/3.11/lib/python3.11/site-packages (from matplotlib!=3.6.1,>=3.4->seaborn) (24.0)\n",
      "Requirement already satisfied: pillow>=8 in /Library/Frameworks/Python.framework/Versions/3.11/lib/python3.11/site-packages (from matplotlib!=3.6.1,>=3.4->seaborn) (10.2.0)\n",
      "Requirement already satisfied: pyparsing>=2.3.1 in /Library/Frameworks/Python.framework/Versions/3.11/lib/python3.11/site-packages (from matplotlib!=3.6.1,>=3.4->seaborn) (3.1.2)\n",
      "Requirement already satisfied: python-dateutil>=2.7 in /Library/Frameworks/Python.framework/Versions/3.11/lib/python3.11/site-packages (from matplotlib!=3.6.1,>=3.4->seaborn) (2.9.0.post0)\n",
      "Requirement already satisfied: pytz>=2020.1 in /Library/Frameworks/Python.framework/Versions/3.11/lib/python3.11/site-packages (from pandas>=1.2->seaborn) (2024.1)\n",
      "Requirement already satisfied: tzdata>=2022.7 in /Library/Frameworks/Python.framework/Versions/3.11/lib/python3.11/site-packages (from pandas>=1.2->seaborn) (2024.1)\n",
      "Requirement already satisfied: six>=1.5 in /Library/Frameworks/Python.framework/Versions/3.11/lib/python3.11/site-packages (from python-dateutil>=2.7->matplotlib!=3.6.1,>=3.4->seaborn) (1.16.0)\n",
      "\n",
      "\u001b[1m[\u001b[0m\u001b[34;49mnotice\u001b[0m\u001b[1;39;49m]\u001b[0m\u001b[39;49m A new release of pip available: \u001b[0m\u001b[31;49m22.3\u001b[0m\u001b[39;49m -> \u001b[0m\u001b[32;49m24.0\u001b[0m\n",
      "\u001b[1m[\u001b[0m\u001b[34;49mnotice\u001b[0m\u001b[1;39;49m]\u001b[0m\u001b[39;49m To update, run: \u001b[0m\u001b[32;49mpip3 install --upgrade pip\u001b[0m\n",
      "224/224 [==============================] - 0s 248us/step\n"
     ]
    },
    {
     "data": {
      "image/png": "[encoded data removed]",
      "text/plain": [
       "<Figure size 700x600 with 2 Axes>"
      ]
     },
     "metadata": {},
     "output_type": "display_data"
    },
    {
     "name": "stdout",
     "output_type": "stream",
     "text": [
      "Classification Report\n",
      "              precision    recall  f1-score   support\n",
      "\n",
      "           0       0.90      0.18      0.30       102\n",
      "           1       0.86      0.87      0.86       635\n",
      "           2       0.96      0.98      0.97       535\n",
      "           3       1.00      0.97      0.99       407\n",
      "           4       0.87      0.97      0.92       635\n",
      "           5       0.98      0.79      0.88       608\n",
      "           6       0.99      0.78      0.87       541\n",
      "           7       0.98      0.96      0.97       316\n",
      "           8       0.81      1.00      0.89       341\n",
      "           9       0.83      0.99      0.91       885\n",
      "          10       0.98      0.97      0.97       263\n",
      "          11       0.99      1.00      1.00       491\n",
      "          12       0.92      0.98      0.95       729\n",
      "          13       0.96      0.89      0.92       672\n",
      "\n",
      "    accuracy                           0.92      7160\n",
      "   macro avg       0.93      0.88      0.88      7160\n",
      "weighted avg       0.93      0.92      0.92      7160\n",
      "\n"
     ]
    }
   ],
   "source": [
    "import sys\n",
    "!{sys.executable} -m pip install pandas\n",
    "!{sys.executable} -m pip install seaborn\n",
    "import pandas as pd\n",
    "import seaborn as sns\n",
    "import matplotlib.pyplot as plt\n",
    "from sklearn.metrics import confusion_matrix, classification_report\n",
    "\n",
    "def print_confusion_matrix(y_true, y_pred, report=True):\n",
    "    labels = sorted(list(set(y_true)))\n",
    "    cmx_data = confusion_matrix(y_true, y_pred, labels=labels)\n",
    "    \n",
    "    df_cmx = pd.DataFrame(cmx_data, index=labels, columns=labels)\n",
    " \n",
    "    fig, ax = plt.subplots(figsize=(7, 6))\n",
    "    sns.heatmap(df_cmx, annot=True, fmt='g' ,square=False)\n",
    "    ax.set_ylim(len(set(y_true)), 0)\n",
    "    plt.show()\n",
    "    \n",
    "    if report:\n",
    "        print('Classification Report')\n",
    "        print(classification_report(y_test, y_pred))\n",
    "\n",
    "Y_pred = model.predict(X_test)\n",
    "y_pred = np.argmax(Y_pred, axis=1)\n",
    "\n",
    "print_confusion_matrix(y_test, y_pred)"
   ]
  },
  {
   "cell_type": "markdown",
   "metadata": {},
   "source": [
    "# Tensorflow-Lite用のモデルへ変換"
   ]
  },
  {
   "cell_type": "code",
   "execution_count": 178,
   "metadata": {},
   "outputs": [
    {
     "name": "stderr",
     "output_type": "stream",
     "text": [
      "/Library/Frameworks/Python.framework/Versions/3.11/lib/python3.11/site-packages/keras/src/engine/training.py:3103: UserWarning: You are saving your model as an HDF5 file via `model.save()`. This file format is considered legacy. We recommend using instead the native Keras format, e.g. `model.save('my_model.keras')`.\n",
      "  saving_api.save_model(\n"
     ]
    }
   ],
   "source": [
    "# 推論専用のモデルとして保存\n",
    "model.save(model_save_path, include_optimizer=False)"
   ]
  },
  {
   "cell_type": "code",
   "execution_count": 179,
   "metadata": {},
   "outputs": [
    {
     "name": "stdout",
     "output_type": "stream",
     "text": [
      "INFO:tensorflow:Assets written to: /var/folders/94/hsp1l41x2bl2x750txjrn_900000gn/T/tmpjulae2za/assets\n"
     ]
    },
    {
     "name": "stderr",
     "output_type": "stream",
     "text": [
      "INFO:tensorflow:Assets written to: /var/folders/94/hsp1l41x2bl2x750txjrn_900000gn/T/tmpjulae2za/assets\n",
      "2024-04-07 17:10:23.223562: W tensorflow/compiler/mlir/lite/python/tf_tfl_flatbuffer_helpers.cc:378] Ignored output_format.\n",
      "2024-04-07 17:10:23.223575: W tensorflow/compiler/mlir/lite/python/tf_tfl_flatbuffer_helpers.cc:381] Ignored drop_control_dependency.\n",
      "Summary on the non-converted ops:\n",
      "---------------------------------\n",
      " * Accepted dialects: tfl, builtin, func\n",
      " * Non-Converted Ops: 6, Total Ops 13, % non-converted = 46.15 %\n",
      " * 6 ARITH ops\n",
      "\n",
      "- arith.constant:    6 occurrences  (f32: 6)\n",
      "\n",
      "\n",
      "\n",
      "  (f32: 3)\n",
      "  (f32: 1)\n"
     ]
    },
    {
     "data": {
      "text/plain": [
       "7048"
      ]
     },
     "execution_count": 179,
     "metadata": {},
     "output_type": "execute_result"
    }
   ],
   "source": [
    "# モデルを変換(量子化)\n",
    "tflite_save_path = 'model/keypoint_classifier/keypoint_classifier.tflite'\n",
    "\n",
    "converter = tf.lite.TFLiteConverter.from_keras_model(model)\n",
    "converter.optimizations = [tf.lite.Optimize.DEFAULT]\n",
    "tflite_quantized_model = converter.convert()\n",
    "\n",
    "open(tflite_save_path, 'wb').write(tflite_quantized_model)"
   ]
  },
  {
   "cell_type": "markdown",
   "metadata": {},
   "source": [
    "# 推論テスト"
   ]
  },
  {
   "cell_type": "code",
   "execution_count": 180,
   "metadata": {},
   "outputs": [],
   "source": [
    "interpreter = tf.lite.Interpreter(model_path=tflite_save_path)\n",
    "interpreter.allocate_tensors()"
   ]
  },
  {
   "cell_type": "code",
   "execution_count": 181,
   "metadata": {},
   "outputs": [],
   "source": [
    "# 入出力テンソルを取得\n",
    "input_details = interpreter.get_input_details()\n",
    "output_details = interpreter.get_output_details()"
   ]
  },
  {
   "cell_type": "code",
   "execution_count": 182,
   "metadata": {},
   "outputs": [],
   "source": [
    "interpreter.set_tensor(input_details[0]['index'], np.array([X_test[0]]))"
   ]
  },
  {
   "cell_type": "code",
   "execution_count": 183,
   "metadata": {
    "scrolled": true
   },
   "outputs": [
    {
     "name": "stdout",
     "output_type": "stream",
     "text": [
      "CPU times: user 123 µs, sys: 70 µs, total: 193 µs\n",
      "Wall time: 157 µs\n"
     ]
    }
   ],
   "source": [
    "%%time\n",
    "# 推論実施\n",
    "interpreter.invoke()\n",
    "tflite_results = interpreter.get_tensor(output_details[0]['index'])"
   ]
  },
  {
   "cell_type": "code",
   "execution_count": 184,
   "metadata": {},
   "outputs": [
    {
     "name": "stdout",
     "output_type": "stream",
     "text": [
      "[1.7338824e-06 1.5987677e-02 2.9364962e-04 3.1388337e-03 4.4648044e-04\n",
      " 5.3474307e-04 6.1034441e-01 1.1922944e-07 4.8005292e-15 1.0457580e-06\n",
      " 5.1548776e-10 1.9614719e-04 3.6905476e-01 3.4618100e-07]\n",
      "6\n"
     ]
    }
   ],
   "source": [
    "print(np.squeeze(tflite_results))\n",
    "print(np.argmax(np.squeeze(tflite_results)))"
   ]
  }
 ],
 "metadata": {
  "kernelspec": {
   "display_name": "Python 3 (ipykernel)",
   "language": "python",
   "name": "python3"
  },
  "language_info": {
   "codemirror_mode": {
    "name": "ipython",
    "version": 3
   },
   "file_extension": ".py",
   "mimetype": "text/x-python",
   "name": "python",
   "nbconvert_exporter": "python",
   "pygments_lexer": "ipython3",
   "version": "3.11.0"
  }
 },
 "nbformat": 4,
 "nbformat_minor": 4
}
