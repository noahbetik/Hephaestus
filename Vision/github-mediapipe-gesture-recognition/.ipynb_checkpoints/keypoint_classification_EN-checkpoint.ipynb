{
 "cells": [
  {
   "cell_type": "code",
   "execution_count": 1,
   "metadata": {
    "id": "igMyGnjE9hEp"
   },
   "outputs": [],
   "source": [
    "import csv\n",
    "\n",
    "import numpy as np\n",
    "import tensorflow as tf\n",
    "from sklearn.model_selection import train_test_split\n",
    "\n",
    "RANDOM_SEED = 42"
   ]
  },
  {
   "cell_type": "markdown",
   "metadata": {
    "id": "t2HDvhIu9hEr"
   },
   "source": [
    "# Specify each path"
   ]
  },
  {
   "cell_type": "code",
   "execution_count": 2,
   "metadata": {
    "id": "9NvZP2Zn9hEy"
   },
   "outputs": [],
   "source": [
    "dataset = 'model/keypoint_classifier/keypoint.csv'\n",
    "model_save_path = 'model/keypoint_classifier/keypoint_classifier.hdf5'\n",
    "tflite_save_path = 'model/keypoint_classifier/keypoint_classifier.tflite'"
   ]
  },
  {
   "cell_type": "markdown",
   "metadata": {
    "id": "s5oMH7x19hEz"
   },
   "source": [
    "# Set number of classes"
   ]
  },
  {
   "cell_type": "code",
   "execution_count": 3,
   "metadata": {
    "id": "du4kodXL9hEz"
   },
   "outputs": [],
   "source": [
    "NUM_CLASSES = 12"
   ]
  },
  {
   "cell_type": "markdown",
   "metadata": {
    "id": "XjnL0uso9hEz"
   },
   "source": [
    "# Dataset reading"
   ]
  },
  {
   "cell_type": "code",
   "execution_count": 4,
   "metadata": {
    "id": "QT5ZqtEz9hE0"
   },
   "outputs": [],
   "source": [
    "X_dataset = np.loadtxt(dataset, delimiter=',', dtype='float32', usecols=list(range(1, (21 * 2) + 1)))"
   ]
  },
  {
   "cell_type": "code",
   "execution_count": 5,
   "metadata": {
    "id": "QmoKFsp49hE0"
   },
   "outputs": [],
   "source": [
    "y_dataset = np.loadtxt(dataset, delimiter=',', dtype='int32', usecols=(0))"
   ]
  },
  {
   "cell_type": "code",
   "execution_count": 6,
   "metadata": {
    "id": "xQU7JTZ_9hE0"
   },
   "outputs": [],
   "source": [
    "X_train, X_test, y_train, y_test = train_test_split(X_dataset, y_dataset, train_size=0.75, random_state=RANDOM_SEED)"
   ]
  },
  {
   "cell_type": "markdown",
   "metadata": {
    "id": "mxK_lETT9hE0"
   },
   "source": [
    "# Model building"
   ]
  },
  {
   "cell_type": "code",
   "execution_count": 7,
   "metadata": {
    "id": "vHBmUf1t9hE1"
   },
   "outputs": [],
   "source": [
    "model = tf.keras.models.Sequential([\n",
    "    tf.keras.layers.Input((21 * 2, )),\n",
    "    tf.keras.layers.Dropout(0.2),\n",
    "    tf.keras.layers.Dense(20, activation='relu'),\n",
    "    tf.keras.layers.Dropout(0.4),\n",
    "    tf.keras.layers.Dense(10, activation='relu'),\n",
    "    tf.keras.layers.Dense(NUM_CLASSES, activation='softmax')\n",
    "])"
   ]
  },
  {
   "cell_type": "code",
   "execution_count": 8,
   "metadata": {
    "colab": {
     "base_uri": "https://localhost:8080/"
    },
    "id": "ypqky9tc9hE1",
    "outputId": "5db082bb-30e3-4110-bf63-a1ee777ecd46"
   },
   "outputs": [
    {
     "name": "stdout",
     "output_type": "stream",
     "text": [
      "Model: \"sequential\"\n",
      "_________________________________________________________________\n",
      " Layer (type)                Output Shape              Param #   \n",
      "=================================================================\n",
      " dropout (Dropout)           (None, 42)                0         \n",
      "                                                                 \n",
      " dense (Dense)               (None, 20)                860       \n",
      "                                                                 \n",
      " dropout_1 (Dropout)         (None, 20)                0         \n",
      "                                                                 \n",
      " dense_1 (Dense)             (None, 10)                210       \n",
      "                                                                 \n",
      " dense_2 (Dense)             (None, 13)                143       \n",
      "                                                                 \n",
      "=================================================================\n",
      "Total params: 1213 (4.74 KB)\n",
      "Trainable params: 1213 (4.74 KB)\n",
      "Non-trainable params: 0 (0.00 Byte)\n",
      "_________________________________________________________________\n"
     ]
    }
   ],
   "source": [
    "model.summary()  # tf.keras.utils.plot_model(model, show_shapes=True)"
   ]
  },
  {
   "cell_type": "code",
   "execution_count": 9,
   "metadata": {
    "id": "MbMjOflQ9hE1"
   },
   "outputs": [],
   "source": [
    "# Model checkpoint callback\n",
    "cp_callback = tf.keras.callbacks.ModelCheckpoint(\n",
    "    model_save_path, verbose=1, save_weights_only=False)\n",
    "# Callback for early stopping\n",
    "es_callback = tf.keras.callbacks.EarlyStopping(patience=20, verbose=1)"
   ]
  },
  {
   "cell_type": "code",
   "execution_count": 10,
   "metadata": {
    "id": "c3Dac0M_9hE2"
   },
   "outputs": [],
   "source": [
    "# Model compilation\n",
    "model.compile(\n",
    "    optimizer='adam',\n",
    "    loss='sparse_categorical_crossentropy',\n",
    "    metrics=['accuracy']\n",
    ")"
   ]
  },
  {
   "cell_type": "markdown",
   "metadata": {
    "id": "7XI0j1Iu9hE2"
   },
   "source": [
    "# Model training"
   ]
  },
  {
   "cell_type": "code",
   "execution_count": 11,
   "metadata": {
    "colab": {
     "base_uri": "https://localhost:8080/"
    },
    "id": "WirBl-JE9hE3",
    "outputId": "71b30ca2-8294-4d9d-8aa2-800d90d399de",
    "scrolled": true
   },
   "outputs": [
    {
     "name": "stdout",
     "output_type": "stream",
     "text": [
      "Epoch 1/1000\n",
      " 1/63 [..............................] - ETA: 17s - loss: 2.6468 - accuracy: 0.0859\n",
      "Epoch 1: saving model to model/keypoint_classifier/keypoint_classifier.hdf5\n",
      "63/63 [==============================] - 1s 5ms/step - loss: 2.4906 - accuracy: 0.1720 - val_loss: 2.3033 - val_accuracy: 0.3409\n",
      "Epoch 2/1000\n",
      " 1/63 [..............................] - ETA: 0s - loss: 2.3228 - accuracy: 0.2891\n",
      "Epoch 2: saving model to model/keypoint_classifier/keypoint_classifier.hdf5\n",
      "63/63 [==============================] - 0s 1ms/step - loss: 2.2133 - accuracy: 0.2897 - val_loss: 1.9493 - val_accuracy: 0.4266\n",
      "Epoch 3/1000\n",
      " 1/63 [..............................] - ETA: 0s - loss: 2.0660 - accuracy: 0.3203\n",
      "Epoch 3: saving model to model/keypoint_classifier/keypoint_classifier.hdf5\n",
      "63/63 [==============================] - 0s 1ms/step - loss: 1.9609 - accuracy: 0.3522 - val_loss: 1.6920 - val_accuracy: 0.4981\n",
      "Epoch 4/1000\n",
      " 1/63 [..............................] - ETA: 0s - loss: 1.7277 - accuracy: 0.4609"
     ]
    },
    {
     "name": "stderr",
     "output_type": "stream",
     "text": [
      "/Users/tyler/Desktop/SCHOOL/CAPSTONE/OpenCV/open_cv_env/lib/python3.11/site-packages/keras/src/engine/training.py:3103: UserWarning: You are saving your model as an HDF5 file via `model.save()`. This file format is considered legacy. We recommend using instead the native Keras format, e.g. `model.save('my_model.keras')`.\n",
      "  saving_api.save_model(\n"
     ]
    },
    {
     "name": "stdout",
     "output_type": "stream",
     "text": [
      "62/63 [============================>.] - ETA: 0s - loss: 1.7536 - accuracy: 0.3996\n",
      "Epoch 4: saving model to model/keypoint_classifier/keypoint_classifier.hdf5\n",
      "63/63 [==============================] - 0s 1ms/step - loss: 1.7535 - accuracy: 0.3996 - val_loss: 1.4839 - val_accuracy: 0.6084\n",
      "Epoch 5/1000\n",
      " 1/63 [..............................] - ETA: 0s - loss: 1.7409 - accuracy: 0.4141\n",
      "Epoch 5: saving model to model/keypoint_classifier/keypoint_classifier.hdf5\n",
      "63/63 [==============================] - 0s 1ms/step - loss: 1.6049 - accuracy: 0.4548 - val_loss: 1.3157 - val_accuracy: 0.6780\n",
      "Epoch 6/1000\n",
      " 1/63 [..............................] - ETA: 0s - loss: 1.5071 - accuracy: 0.5078\n",
      "Epoch 6: saving model to model/keypoint_classifier/keypoint_classifier.hdf5\n",
      "63/63 [==============================] - 0s 1ms/step - loss: 1.5111 - accuracy: 0.4826 - val_loss: 1.1752 - val_accuracy: 0.7246\n",
      "Epoch 7/1000\n",
      " 1/63 [..............................] - ETA: 0s - loss: 1.4203 - accuracy: 0.4844\n",
      "Epoch 7: saving model to model/keypoint_classifier/keypoint_classifier.hdf5\n",
      "63/63 [==============================] - 0s 1ms/step - loss: 1.4115 - accuracy: 0.5144 - val_loss: 1.0630 - val_accuracy: 0.7671\n",
      "Epoch 8/1000\n",
      " 1/63 [..............................] - ETA: 0s - loss: 1.2793 - accuracy: 0.5938\n",
      "Epoch 8: saving model to model/keypoint_classifier/keypoint_classifier.hdf5\n",
      "63/63 [==============================] - 0s 1ms/step - loss: 1.3175 - accuracy: 0.5463 - val_loss: 0.9597 - val_accuracy: 0.7931\n",
      "Epoch 9/1000\n",
      " 1/63 [..............................] - ETA: 0s - loss: 1.2791 - accuracy: 0.5547\n",
      "Epoch 9: saving model to model/keypoint_classifier/keypoint_classifier.hdf5\n",
      "63/63 [==============================] - 0s 1ms/step - loss: 1.2579 - accuracy: 0.5764 - val_loss: 0.8793 - val_accuracy: 0.8134\n",
      "Epoch 10/1000\n",
      " 1/63 [..............................] - ETA: 0s - loss: 1.2957 - accuracy: 0.5312\n",
      "Epoch 10: saving model to model/keypoint_classifier/keypoint_classifier.hdf5\n",
      "63/63 [==============================] - 0s 1ms/step - loss: 1.2087 - accuracy: 0.5940 - val_loss: 0.8241 - val_accuracy: 0.8164\n",
      "Epoch 11/1000\n",
      " 1/63 [..............................] - ETA: 0s - loss: 1.1832 - accuracy: 0.6094\n",
      "Epoch 11: saving model to model/keypoint_classifier/keypoint_classifier.hdf5\n",
      "63/63 [==============================] - 0s 1ms/step - loss: 1.1647 - accuracy: 0.6114 - val_loss: 0.7658 - val_accuracy: 0.8412\n",
      "Epoch 12/1000\n",
      " 1/63 [..............................] - ETA: 0s - loss: 1.1313 - accuracy: 0.6328\n",
      "Epoch 12: saving model to model/keypoint_classifier/keypoint_classifier.hdf5\n",
      "63/63 [==============================] - 0s 1ms/step - loss: 1.1390 - accuracy: 0.6156 - val_loss: 0.7185 - val_accuracy: 0.8774\n",
      "Epoch 13/1000\n",
      " 1/63 [..............................] - ETA: 0s - loss: 0.9446 - accuracy: 0.6953\n",
      "Epoch 13: saving model to model/keypoint_classifier/keypoint_classifier.hdf5\n",
      "63/63 [==============================] - 0s 1ms/step - loss: 1.0744 - accuracy: 0.6392 - val_loss: 0.6635 - val_accuracy: 0.8969\n",
      "Epoch 14/1000\n",
      " 1/63 [..............................] - ETA: 0s - loss: 1.0691 - accuracy: 0.6094\n",
      "Epoch 14: saving model to model/keypoint_classifier/keypoint_classifier.hdf5\n",
      "63/63 [==============================] - 0s 1ms/step - loss: 1.0632 - accuracy: 0.6438 - val_loss: 0.6366 - val_accuracy: 0.9108\n",
      "Epoch 15/1000\n",
      " 1/63 [..............................] - ETA: 0s - loss: 0.9980 - accuracy: 0.6719\n",
      "Epoch 15: saving model to model/keypoint_classifier/keypoint_classifier.hdf5\n",
      "63/63 [==============================] - 0s 1ms/step - loss: 1.0333 - accuracy: 0.6446 - val_loss: 0.6055 - val_accuracy: 0.9138\n",
      "Epoch 16/1000\n",
      " 1/63 [..............................] - ETA: 0s - loss: 1.0408 - accuracy: 0.6406\n",
      "Epoch 16: saving model to model/keypoint_classifier/keypoint_classifier.hdf5\n",
      "63/63 [==============================] - 0s 1ms/step - loss: 1.0059 - accuracy: 0.6604 - val_loss: 0.5924 - val_accuracy: 0.9056\n",
      "Epoch 17/1000\n",
      " 1/63 [..............................] - ETA: 0s - loss: 0.9616 - accuracy: 0.6484\n",
      "Epoch 17: saving model to model/keypoint_classifier/keypoint_classifier.hdf5\n",
      "63/63 [==============================] - 0s 1ms/step - loss: 0.9747 - accuracy: 0.6675 - val_loss: 0.5517 - val_accuracy: 0.9142\n",
      "Epoch 18/1000\n",
      " 1/63 [..............................] - ETA: 0s - loss: 0.9567 - accuracy: 0.6406\n",
      "Epoch 18: saving model to model/keypoint_classifier/keypoint_classifier.hdf5\n",
      "63/63 [==============================] - 0s 1ms/step - loss: 0.9777 - accuracy: 0.6670 - val_loss: 0.5337 - val_accuracy: 0.9225\n",
      "Epoch 19/1000\n",
      " 1/63 [..............................] - ETA: 0s - loss: 0.9180 - accuracy: 0.6719\n",
      "Epoch 19: saving model to model/keypoint_classifier/keypoint_classifier.hdf5\n",
      "63/63 [==============================] - 0s 1ms/step - loss: 0.9393 - accuracy: 0.6777 - val_loss: 0.5160 - val_accuracy: 0.9214\n",
      "Epoch 20/1000\n",
      " 1/63 [..............................] - ETA: 0s - loss: 1.0788 - accuracy: 0.6562\n",
      "Epoch 20: saving model to model/keypoint_classifier/keypoint_classifier.hdf5\n",
      "63/63 [==============================] - 0s 1ms/step - loss: 0.9416 - accuracy: 0.6779 - val_loss: 0.4937 - val_accuracy: 0.9259\n",
      "Epoch 21/1000\n",
      " 1/63 [..............................] - ETA: 0s - loss: 0.8396 - accuracy: 0.6875\n",
      "Epoch 21: saving model to model/keypoint_classifier/keypoint_classifier.hdf5\n",
      "63/63 [==============================] - 0s 1ms/step - loss: 0.9164 - accuracy: 0.6902 - val_loss: 0.4875 - val_accuracy: 0.9251\n",
      "Epoch 22/1000\n",
      " 1/63 [..............................] - ETA: 0s - loss: 0.9113 - accuracy: 0.7109\n",
      "Epoch 22: saving model to model/keypoint_classifier/keypoint_classifier.hdf5\n",
      "63/63 [==============================] - 0s 1ms/step - loss: 0.9121 - accuracy: 0.6848 - val_loss: 0.4720 - val_accuracy: 0.9281\n",
      "Epoch 23/1000\n",
      " 1/63 [..............................] - ETA: 0s - loss: 0.9335 - accuracy: 0.7266\n",
      "Epoch 23: saving model to model/keypoint_classifier/keypoint_classifier.hdf5\n",
      "63/63 [==============================] - 0s 1ms/step - loss: 0.9020 - accuracy: 0.6946 - val_loss: 0.4607 - val_accuracy: 0.9357\n",
      "Epoch 24/1000\n",
      " 1/63 [..............................] - ETA: 0s - loss: 1.0977 - accuracy: 0.7031\n",
      "Epoch 24: saving model to model/keypoint_classifier/keypoint_classifier.hdf5\n",
      "63/63 [==============================] - 0s 1ms/step - loss: 0.9037 - accuracy: 0.6886 - val_loss: 0.4572 - val_accuracy: 0.9315\n",
      "Epoch 25/1000\n",
      " 1/63 [..............................] - ETA: 0s - loss: 0.9410 - accuracy: 0.6406\n",
      "Epoch 25: saving model to model/keypoint_classifier/keypoint_classifier.hdf5\n",
      "63/63 [==============================] - 0s 1ms/step - loss: 0.9017 - accuracy: 0.6981 - val_loss: 0.4455 - val_accuracy: 0.9353\n",
      "Epoch 26/1000\n",
      " 1/63 [..............................] - ETA: 0s - loss: 0.7471 - accuracy: 0.7578\n",
      "Epoch 26: saving model to model/keypoint_classifier/keypoint_classifier.hdf5\n",
      "63/63 [==============================] - 0s 1ms/step - loss: 0.8631 - accuracy: 0.7045 - val_loss: 0.4169 - val_accuracy: 0.9409\n",
      "Epoch 27/1000\n",
      " 1/63 [..............................] - ETA: 0s - loss: 0.9726 - accuracy: 0.6719\n",
      "Epoch 27: saving model to model/keypoint_classifier/keypoint_classifier.hdf5\n",
      "63/63 [==============================] - 0s 1ms/step - loss: 0.8666 - accuracy: 0.7026 - val_loss: 0.4130 - val_accuracy: 0.9402\n",
      "Epoch 28/1000\n",
      " 1/63 [..............................] - ETA: 0s - loss: 0.6712 - accuracy: 0.7422\n",
      "Epoch 28: saving model to model/keypoint_classifier/keypoint_classifier.hdf5\n",
      "63/63 [==============================] - 0s 1ms/step - loss: 0.8552 - accuracy: 0.7103 - val_loss: 0.4081 - val_accuracy: 0.9379\n",
      "Epoch 29/1000\n",
      " 1/63 [..............................] - ETA: 0s - loss: 0.8646 - accuracy: 0.7266\n",
      "Epoch 29: saving model to model/keypoint_classifier/keypoint_classifier.hdf5\n",
      "63/63 [==============================] - 0s 1ms/step - loss: 0.8553 - accuracy: 0.7164 - val_loss: 0.4001 - val_accuracy: 0.9436\n",
      "Epoch 30/1000\n",
      " 1/63 [..............................] - ETA: 0s - loss: 0.8814 - accuracy: 0.7656\n",
      "Epoch 30: saving model to model/keypoint_classifier/keypoint_classifier.hdf5\n",
      "63/63 [==============================] - 0s 1ms/step - loss: 0.8408 - accuracy: 0.7162 - val_loss: 0.3959 - val_accuracy: 0.9503\n",
      "Epoch 31/1000\n",
      " 1/63 [..............................] - ETA: 0s - loss: 0.6477 - accuracy: 0.8047\n",
      "Epoch 31: saving model to model/keypoint_classifier/keypoint_classifier.hdf5\n",
      "63/63 [==============================] - 0s 1ms/step - loss: 0.8135 - accuracy: 0.7239 - val_loss: 0.3776 - val_accuracy: 0.9481\n",
      "Epoch 32/1000\n",
      " 1/63 [..............................] - ETA: 0s - loss: 0.8572 - accuracy: 0.7578\n",
      "Epoch 32: saving model to model/keypoint_classifier/keypoint_classifier.hdf5\n",
      "63/63 [==============================] - 0s 1ms/step - loss: 0.8270 - accuracy: 0.7209 - val_loss: 0.3830 - val_accuracy: 0.9507\n",
      "Epoch 33/1000\n",
      " 1/63 [..............................] - ETA: 0s - loss: 0.7733 - accuracy: 0.7656\n",
      "Epoch 33: saving model to model/keypoint_classifier/keypoint_classifier.hdf5\n",
      "63/63 [==============================] - 0s 1ms/step - loss: 0.8278 - accuracy: 0.7173 - val_loss: 0.3754 - val_accuracy: 0.9375\n",
      "Epoch 34/1000\n",
      " 1/63 [..............................] - ETA: 0s - loss: 0.9127 - accuracy: 0.6953\n",
      "Epoch 34: saving model to model/keypoint_classifier/keypoint_classifier.hdf5\n",
      "63/63 [==============================] - 0s 1ms/step - loss: 0.8052 - accuracy: 0.7275 - val_loss: 0.3553 - val_accuracy: 0.9421\n",
      "Epoch 35/1000\n",
      " 1/63 [..............................] - ETA: 0s - loss: 0.9103 - accuracy: 0.6797\n",
      "Epoch 35: saving model to model/keypoint_classifier/keypoint_classifier.hdf5\n",
      "63/63 [==============================] - 0s 1ms/step - loss: 0.8047 - accuracy: 0.7276 - val_loss: 0.3600 - val_accuracy: 0.9492\n",
      "Epoch 36/1000\n",
      " 1/63 [..............................] - ETA: 0s - loss: 0.7473 - accuracy: 0.7266\n",
      "Epoch 36: saving model to model/keypoint_classifier/keypoint_classifier.hdf5\n",
      "63/63 [==============================] - 0s 1ms/step - loss: 0.8002 - accuracy: 0.7306 - val_loss: 0.3545 - val_accuracy: 0.9503\n",
      "Epoch 37/1000\n",
      "60/63 [===========================>..] - ETA: 0s - loss: 0.7857 - accuracy: 0.7328\n",
      "Epoch 37: saving model to model/keypoint_classifier/keypoint_classifier.hdf5\n",
      "63/63 [==============================] - 0s 1ms/step - loss: 0.7847 - accuracy: 0.7331 - val_loss: 0.3421 - val_accuracy: 0.9511\n",
      "Epoch 38/1000\n",
      " 1/63 [..............................] - ETA: 0s - loss: 0.8699 - accuracy: 0.7344\n",
      "Epoch 38: saving model to model/keypoint_classifier/keypoint_classifier.hdf5\n",
      "63/63 [==============================] - 0s 1ms/step - loss: 0.7751 - accuracy: 0.7416 - val_loss: 0.3441 - val_accuracy: 0.9533\n",
      "Epoch 39/1000\n",
      " 1/63 [..............................] - ETA: 0s - loss: 0.8299 - accuracy: 0.6875\n",
      "Epoch 39: saving model to model/keypoint_classifier/keypoint_classifier.hdf5\n",
      "63/63 [==============================] - 0s 1ms/step - loss: 0.7908 - accuracy: 0.7362 - val_loss: 0.3460 - val_accuracy: 0.9492\n",
      "Epoch 40/1000\n",
      " 1/63 [..............................] - ETA: 0s - loss: 0.8448 - accuracy: 0.7422\n",
      "Epoch 40: saving model to model/keypoint_classifier/keypoint_classifier.hdf5\n",
      "63/63 [==============================] - 0s 1ms/step - loss: 0.7723 - accuracy: 0.7458 - val_loss: 0.3296 - val_accuracy: 0.9503\n",
      "Epoch 41/1000\n",
      " 1/63 [..............................] - ETA: 0s - loss: 0.7977 - accuracy: 0.6953\n",
      "Epoch 41: saving model to model/keypoint_classifier/keypoint_classifier.hdf5\n",
      "63/63 [==============================] - 0s 1ms/step - loss: 0.7715 - accuracy: 0.7428 - val_loss: 0.3301 - val_accuracy: 0.9609\n",
      "Epoch 42/1000\n",
      " 1/63 [..............................] - ETA: 0s - loss: 0.7061 - accuracy: 0.7188\n",
      "Epoch 42: saving model to model/keypoint_classifier/keypoint_classifier.hdf5\n",
      "63/63 [==============================] - 0s 1ms/step - loss: 0.7527 - accuracy: 0.7438 - val_loss: 0.3282 - val_accuracy: 0.9582\n",
      "Epoch 43/1000\n",
      " 1/63 [..............................] - ETA: 0s - loss: 0.6026 - accuracy: 0.8203\n",
      "Epoch 43: saving model to model/keypoint_classifier/keypoint_classifier.hdf5\n",
      "63/63 [==============================] - 0s 1ms/step - loss: 0.7633 - accuracy: 0.7468 - val_loss: 0.3254 - val_accuracy: 0.9579\n",
      "Epoch 44/1000\n",
      " 1/63 [..............................] - ETA: 0s - loss: 0.8353 - accuracy: 0.7031\n",
      "Epoch 44: saving model to model/keypoint_classifier/keypoint_classifier.hdf5\n",
      "63/63 [==============================] - 0s 1ms/step - loss: 0.7599 - accuracy: 0.7488 - val_loss: 0.3155 - val_accuracy: 0.9485\n",
      "Epoch 45/1000\n",
      " 1/63 [..............................] - ETA: 0s - loss: 0.7099 - accuracy: 0.8203\n",
      "Epoch 45: saving model to model/keypoint_classifier/keypoint_classifier.hdf5\n",
      "63/63 [==============================] - 0s 1ms/step - loss: 0.7654 - accuracy: 0.7468 - val_loss: 0.3157 - val_accuracy: 0.9567\n",
      "Epoch 46/1000\n",
      " 1/63 [..............................] - ETA: 0s - loss: 0.7643 - accuracy: 0.7500\n",
      "Epoch 46: saving model to model/keypoint_classifier/keypoint_classifier.hdf5\n",
      "63/63 [==============================] - 0s 1ms/step - loss: 0.7526 - accuracy: 0.7495 - val_loss: 0.3207 - val_accuracy: 0.9571\n",
      "Epoch 47/1000\n",
      " 1/63 [..............................] - ETA: 0s - loss: 0.7519 - accuracy: 0.7734\n",
      "Epoch 47: saving model to model/keypoint_classifier/keypoint_classifier.hdf5\n",
      "63/63 [==============================] - 0s 1ms/step - loss: 0.7334 - accuracy: 0.7558 - val_loss: 0.2993 - val_accuracy: 0.9605\n",
      "Epoch 48/1000\n",
      " 1/63 [..............................] - ETA: 0s - loss: 0.6591 - accuracy: 0.7656\n",
      "Epoch 48: saving model to model/keypoint_classifier/keypoint_classifier.hdf5\n",
      "63/63 [==============================] - 0s 1ms/step - loss: 0.7432 - accuracy: 0.7459 - val_loss: 0.3067 - val_accuracy: 0.9575\n",
      "Epoch 49/1000\n",
      " 1/63 [..............................] - ETA: 0s - loss: 0.7121 - accuracy: 0.7266\n",
      "Epoch 49: saving model to model/keypoint_classifier/keypoint_classifier.hdf5\n",
      "63/63 [==============================] - 0s 1ms/step - loss: 0.7330 - accuracy: 0.7537 - val_loss: 0.3056 - val_accuracy: 0.9549\n",
      "Epoch 50/1000\n",
      " 1/63 [..............................] - ETA: 0s - loss: 0.7321 - accuracy: 0.7266\n",
      "Epoch 50: saving model to model/keypoint_classifier/keypoint_classifier.hdf5\n",
      "63/63 [==============================] - 0s 1ms/step - loss: 0.7272 - accuracy: 0.7562 - val_loss: 0.2901 - val_accuracy: 0.9612\n",
      "Epoch 51/1000\n",
      " 1/63 [..............................] - ETA: 0s - loss: 0.5990 - accuracy: 0.7969\n",
      "Epoch 51: saving model to model/keypoint_classifier/keypoint_classifier.hdf5\n",
      "63/63 [==============================] - 0s 1ms/step - loss: 0.7163 - accuracy: 0.7616 - val_loss: 0.2901 - val_accuracy: 0.9624\n",
      "Epoch 52/1000\n",
      " 1/63 [..............................] - ETA: 0s - loss: 0.6006 - accuracy: 0.7812\n",
      "Epoch 52: saving model to model/keypoint_classifier/keypoint_classifier.hdf5\n",
      "63/63 [==============================] - 0s 1ms/step - loss: 0.7213 - accuracy: 0.7586 - val_loss: 0.2954 - val_accuracy: 0.9575\n",
      "Epoch 53/1000\n",
      " 1/63 [..............................] - ETA: 0s - loss: 0.7253 - accuracy: 0.7656\n",
      "Epoch 53: saving model to model/keypoint_classifier/keypoint_classifier.hdf5\n",
      "63/63 [==============================] - 0s 1ms/step - loss: 0.7064 - accuracy: 0.7672 - val_loss: 0.2851 - val_accuracy: 0.9582\n",
      "Epoch 54/1000\n",
      " 1/63 [..............................] - ETA: 0s - loss: 0.5623 - accuracy: 0.8281\n",
      "Epoch 54: saving model to model/keypoint_classifier/keypoint_classifier.hdf5\n",
      "63/63 [==============================] - 0s 1ms/step - loss: 0.7013 - accuracy: 0.7673 - val_loss: 0.2895 - val_accuracy: 0.9597\n",
      "Epoch 55/1000\n",
      " 1/63 [..............................] - ETA: 0s - loss: 0.7674 - accuracy: 0.7500\n",
      "Epoch 55: saving model to model/keypoint_classifier/keypoint_classifier.hdf5\n",
      "63/63 [==============================] - 0s 1ms/step - loss: 0.7169 - accuracy: 0.7692 - val_loss: 0.2846 - val_accuracy: 0.9601\n",
      "Epoch 56/1000\n",
      " 1/63 [..............................] - ETA: 0s - loss: 0.6274 - accuracy: 0.8125\n",
      "Epoch 56: saving model to model/keypoint_classifier/keypoint_classifier.hdf5\n",
      "63/63 [==============================] - 0s 1ms/step - loss: 0.7112 - accuracy: 0.7640 - val_loss: 0.2810 - val_accuracy: 0.9612\n",
      "Epoch 57/1000\n",
      " 1/63 [..............................] - ETA: 0s - loss: 0.8632 - accuracy: 0.7109\n",
      "Epoch 57: saving model to model/keypoint_classifier/keypoint_classifier.hdf5\n",
      "63/63 [==============================] - 0s 1ms/step - loss: 0.7063 - accuracy: 0.7678 - val_loss: 0.2931 - val_accuracy: 0.9624\n",
      "Epoch 58/1000\n",
      " 1/63 [..............................] - ETA: 0s - loss: 0.7193 - accuracy: 0.7656\n",
      "Epoch 58: saving model to model/keypoint_classifier/keypoint_classifier.hdf5\n",
      "63/63 [==============================] - 0s 1ms/step - loss: 0.6972 - accuracy: 0.7714 - val_loss: 0.2761 - val_accuracy: 0.9650\n",
      "Epoch 59/1000\n",
      " 1/63 [..............................] - ETA: 0s - loss: 0.5873 - accuracy: 0.8047\n",
      "Epoch 59: saving model to model/keypoint_classifier/keypoint_classifier.hdf5\n",
      "63/63 [==============================] - 0s 1ms/step - loss: 0.6937 - accuracy: 0.7692 - val_loss: 0.2728 - val_accuracy: 0.9631\n",
      "Epoch 60/1000\n",
      " 1/63 [..............................] - ETA: 0s - loss: 0.6659 - accuracy: 0.7656\n",
      "Epoch 60: saving model to model/keypoint_classifier/keypoint_classifier.hdf5\n",
      "63/63 [==============================] - 0s 1ms/step - loss: 0.7094 - accuracy: 0.7662 - val_loss: 0.2762 - val_accuracy: 0.9628\n",
      "Epoch 61/1000\n",
      " 1/63 [..............................] - ETA: 0s - loss: 0.8128 - accuracy: 0.6875\n",
      "Epoch 61: saving model to model/keypoint_classifier/keypoint_classifier.hdf5\n",
      "63/63 [==============================] - 0s 1ms/step - loss: 0.7105 - accuracy: 0.7640 - val_loss: 0.2805 - val_accuracy: 0.9646\n",
      "Epoch 62/1000\n",
      " 1/63 [..............................] - ETA: 0s - loss: 0.5921 - accuracy: 0.8203\n",
      "Epoch 62: saving model to model/keypoint_classifier/keypoint_classifier.hdf5\n",
      "63/63 [==============================] - 0s 1ms/step - loss: 0.7000 - accuracy: 0.7648 - val_loss: 0.2763 - val_accuracy: 0.9624\n",
      "Epoch 63/1000\n",
      " 1/63 [..............................] - ETA: 0s - loss: 0.8760 - accuracy: 0.7188\n",
      "Epoch 63: saving model to model/keypoint_classifier/keypoint_classifier.hdf5\n",
      "63/63 [==============================] - 0s 1ms/step - loss: 0.6965 - accuracy: 0.7705 - val_loss: 0.2749 - val_accuracy: 0.9616\n",
      "Epoch 64/1000\n",
      " 1/63 [..............................] - ETA: 0s - loss: 0.7045 - accuracy: 0.7656\n",
      "Epoch 64: saving model to model/keypoint_classifier/keypoint_classifier.hdf5\n",
      "63/63 [==============================] - 0s 1ms/step - loss: 0.6934 - accuracy: 0.7757 - val_loss: 0.2747 - val_accuracy: 0.9639\n",
      "Epoch 65/1000\n",
      " 1/63 [..............................] - ETA: 0s - loss: 0.7140 - accuracy: 0.7812\n",
      "Epoch 65: saving model to model/keypoint_classifier/keypoint_classifier.hdf5\n",
      "63/63 [==============================] - 0s 1ms/step - loss: 0.6817 - accuracy: 0.7775 - val_loss: 0.2668 - val_accuracy: 0.9639\n",
      "Epoch 66/1000\n",
      " 1/63 [..............................] - ETA: 0s - loss: 0.8413 - accuracy: 0.7344\n",
      "Epoch 66: saving model to model/keypoint_classifier/keypoint_classifier.hdf5\n",
      "63/63 [==============================] - 0s 1ms/step - loss: 0.6796 - accuracy: 0.7808 - val_loss: 0.2734 - val_accuracy: 0.9639\n",
      "Epoch 67/1000\n",
      " 1/63 [..............................] - ETA: 0s - loss: 0.6090 - accuracy: 0.7969\n",
      "Epoch 67: saving model to model/keypoint_classifier/keypoint_classifier.hdf5\n",
      "63/63 [==============================] - 0s 1ms/step - loss: 0.6974 - accuracy: 0.7737 - val_loss: 0.2636 - val_accuracy: 0.9646\n",
      "Epoch 68/1000\n",
      " 1/63 [..............................] - ETA: 0s - loss: 0.7034 - accuracy: 0.7500\n",
      "Epoch 68: saving model to model/keypoint_classifier/keypoint_classifier.hdf5\n",
      "63/63 [==============================] - 0s 1ms/step - loss: 0.6939 - accuracy: 0.7687 - val_loss: 0.2641 - val_accuracy: 0.9639\n",
      "Epoch 69/1000\n",
      " 1/63 [..............................] - ETA: 0s - loss: 0.6491 - accuracy: 0.7422\n",
      "Epoch 69: saving model to model/keypoint_classifier/keypoint_classifier.hdf5\n",
      "63/63 [==============================] - 0s 1ms/step - loss: 0.6869 - accuracy: 0.7749 - val_loss: 0.2647 - val_accuracy: 0.9643\n",
      "Epoch 70/1000\n",
      " 1/63 [..............................] - ETA: 0s - loss: 0.7665 - accuracy: 0.7266\n",
      "Epoch 70: saving model to model/keypoint_classifier/keypoint_classifier.hdf5\n",
      "63/63 [==============================] - 0s 1ms/step - loss: 0.6752 - accuracy: 0.7843 - val_loss: 0.2565 - val_accuracy: 0.9643\n",
      "Epoch 71/1000\n",
      " 1/63 [..............................] - ETA: 0s - loss: 0.5708 - accuracy: 0.7969\n",
      "Epoch 71: saving model to model/keypoint_classifier/keypoint_classifier.hdf5\n",
      "63/63 [==============================] - 0s 1ms/step - loss: 0.6769 - accuracy: 0.7775 - val_loss: 0.2561 - val_accuracy: 0.9676\n",
      "Epoch 72/1000\n",
      " 1/63 [..............................] - ETA: 0s - loss: 0.6481 - accuracy: 0.8125\n",
      "Epoch 72: saving model to model/keypoint_classifier/keypoint_classifier.hdf5\n",
      "63/63 [==============================] - 0s 1ms/step - loss: 0.6889 - accuracy: 0.7717 - val_loss: 0.2554 - val_accuracy: 0.9654\n",
      "Epoch 73/1000\n",
      " 1/63 [..............................] - ETA: 0s - loss: 0.6646 - accuracy: 0.7891\n",
      "Epoch 73: saving model to model/keypoint_classifier/keypoint_classifier.hdf5\n",
      "63/63 [==============================] - 0s 1ms/step - loss: 0.6814 - accuracy: 0.7800 - val_loss: 0.2609 - val_accuracy: 0.9646\n",
      "Epoch 74/1000\n",
      " 1/63 [..............................] - ETA: 0s - loss: 0.6490 - accuracy: 0.7656\n",
      "Epoch 74: saving model to model/keypoint_classifier/keypoint_classifier.hdf5\n",
      "63/63 [==============================] - 0s 1ms/step - loss: 0.6736 - accuracy: 0.7830 - val_loss: 0.2525 - val_accuracy: 0.9639\n",
      "Epoch 75/1000\n",
      " 1/63 [..............................] - ETA: 0s - loss: 0.5897 - accuracy: 0.7969\n",
      "Epoch 75: saving model to model/keypoint_classifier/keypoint_classifier.hdf5\n",
      "63/63 [==============================] - 0s 1ms/step - loss: 0.6687 - accuracy: 0.7803 - val_loss: 0.2469 - val_accuracy: 0.9661\n",
      "Epoch 76/1000\n",
      " 1/63 [..............................] - ETA: 0s - loss: 0.7231 - accuracy: 0.7656\n",
      "Epoch 76: saving model to model/keypoint_classifier/keypoint_classifier.hdf5\n",
      "63/63 [==============================] - 0s 1ms/step - loss: 0.6702 - accuracy: 0.7823 - val_loss: 0.2457 - val_accuracy: 0.9699\n",
      "Epoch 77/1000\n",
      " 1/63 [..............................] - ETA: 0s - loss: 0.6135 - accuracy: 0.8047\n",
      "Epoch 77: saving model to model/keypoint_classifier/keypoint_classifier.hdf5\n",
      "63/63 [==============================] - 0s 1ms/step - loss: 0.6560 - accuracy: 0.7894 - val_loss: 0.2483 - val_accuracy: 0.9676\n",
      "Epoch 78/1000\n",
      " 1/63 [..............................] - ETA: 0s - loss: 0.8265 - accuracy: 0.7344\n",
      "Epoch 78: saving model to model/keypoint_classifier/keypoint_classifier.hdf5\n",
      "63/63 [==============================] - 0s 1ms/step - loss: 0.6562 - accuracy: 0.7889 - val_loss: 0.2521 - val_accuracy: 0.9673\n",
      "Epoch 79/1000\n",
      " 1/63 [..............................] - ETA: 0s - loss: 0.7448 - accuracy: 0.7734\n",
      "Epoch 79: saving model to model/keypoint_classifier/keypoint_classifier.hdf5\n",
      "63/63 [==============================] - 0s 1ms/step - loss: 0.6792 - accuracy: 0.7808 - val_loss: 0.2526 - val_accuracy: 0.9631\n",
      "Epoch 80/1000\n",
      " 1/63 [..............................] - ETA: 0s - loss: 0.6166 - accuracy: 0.8203\n",
      "Epoch 80: saving model to model/keypoint_classifier/keypoint_classifier.hdf5\n",
      "63/63 [==============================] - 0s 1ms/step - loss: 0.6662 - accuracy: 0.7838 - val_loss: 0.2427 - val_accuracy: 0.9699\n",
      "Epoch 81/1000\n",
      " 1/63 [..............................] - ETA: 0s - loss: 0.7436 - accuracy: 0.7812\n",
      "Epoch 81: saving model to model/keypoint_classifier/keypoint_classifier.hdf5\n",
      "63/63 [==============================] - 0s 1ms/step - loss: 0.6430 - accuracy: 0.7917 - val_loss: 0.2364 - val_accuracy: 0.9654\n",
      "Epoch 82/1000\n",
      " 1/63 [..............................] - ETA: 0s - loss: 0.5613 - accuracy: 0.8125\n",
      "Epoch 82: saving model to model/keypoint_classifier/keypoint_classifier.hdf5\n",
      "63/63 [==============================] - 0s 1ms/step - loss: 0.6412 - accuracy: 0.7927 - val_loss: 0.2356 - val_accuracy: 0.9669\n",
      "Epoch 83/1000\n",
      " 1/63 [..............................] - ETA: 0s - loss: 0.7356 - accuracy: 0.7422\n",
      "Epoch 83: saving model to model/keypoint_classifier/keypoint_classifier.hdf5\n",
      "63/63 [==============================] - 0s 1ms/step - loss: 0.6338 - accuracy: 0.7894 - val_loss: 0.2385 - val_accuracy: 0.9635\n",
      "Epoch 84/1000\n",
      " 1/63 [..............................] - ETA: 0s - loss: 0.7395 - accuracy: 0.7578\n",
      "Epoch 84: saving model to model/keypoint_classifier/keypoint_classifier.hdf5\n",
      "63/63 [==============================] - 0s 1ms/step - loss: 0.6606 - accuracy: 0.7836 - val_loss: 0.2291 - val_accuracy: 0.9673\n",
      "Epoch 85/1000\n",
      " 1/63 [..............................] - ETA: 0s - loss: 0.6629 - accuracy: 0.7891\n",
      "Epoch 85: saving model to model/keypoint_classifier/keypoint_classifier.hdf5\n",
      "63/63 [==============================] - 0s 1ms/step - loss: 0.6583 - accuracy: 0.7884 - val_loss: 0.2310 - val_accuracy: 0.9654\n",
      "Epoch 86/1000\n",
      " 1/63 [..............................] - ETA: 0s - loss: 0.4962 - accuracy: 0.8281\n",
      "Epoch 86: saving model to model/keypoint_classifier/keypoint_classifier.hdf5\n",
      "63/63 [==============================] - 0s 1ms/step - loss: 0.6579 - accuracy: 0.7924 - val_loss: 0.2310 - val_accuracy: 0.9669\n",
      "Epoch 87/1000\n",
      " 1/63 [..............................] - ETA: 0s - loss: 0.5949 - accuracy: 0.8203\n",
      "Epoch 87: saving model to model/keypoint_classifier/keypoint_classifier.hdf5\n",
      "63/63 [==============================] - 0s 1ms/step - loss: 0.6497 - accuracy: 0.7870 - val_loss: 0.2361 - val_accuracy: 0.9616\n",
      "Epoch 88/1000\n",
      " 1/63 [..............................] - ETA: 0s - loss: 0.7849 - accuracy: 0.7656\n",
      "Epoch 88: saving model to model/keypoint_classifier/keypoint_classifier.hdf5\n",
      "63/63 [==============================] - 0s 1ms/step - loss: 0.6463 - accuracy: 0.7918 - val_loss: 0.2255 - val_accuracy: 0.9673\n",
      "Epoch 89/1000\n",
      " 1/63 [..............................] - ETA: 0s - loss: 0.5880 - accuracy: 0.8203\n",
      "Epoch 89: saving model to model/keypoint_classifier/keypoint_classifier.hdf5\n",
      "63/63 [==============================] - 0s 1ms/step - loss: 0.6494 - accuracy: 0.7882 - val_loss: 0.2248 - val_accuracy: 0.9661\n",
      "Epoch 90/1000\n",
      " 1/63 [..............................] - ETA: 0s - loss: 0.4807 - accuracy: 0.8359\n",
      "Epoch 90: saving model to model/keypoint_classifier/keypoint_classifier.hdf5\n",
      "63/63 [==============================] - 0s 1ms/step - loss: 0.6573 - accuracy: 0.7829 - val_loss: 0.2303 - val_accuracy: 0.9676\n",
      "Epoch 91/1000\n",
      " 1/63 [..............................] - ETA: 0s - loss: 0.6619 - accuracy: 0.7891\n",
      "Epoch 91: saving model to model/keypoint_classifier/keypoint_classifier.hdf5\n",
      "63/63 [==============================] - 0s 1ms/step - loss: 0.6397 - accuracy: 0.7971 - val_loss: 0.2218 - val_accuracy: 0.9691\n",
      "Epoch 92/1000\n",
      " 1/63 [..............................] - ETA: 0s - loss: 0.7472 - accuracy: 0.7188\n",
      "Epoch 92: saving model to model/keypoint_classifier/keypoint_classifier.hdf5\n",
      "63/63 [==============================] - 0s 1ms/step - loss: 0.6492 - accuracy: 0.7844 - val_loss: 0.2213 - val_accuracy: 0.9691\n",
      "Epoch 93/1000\n",
      " 1/63 [..............................] - ETA: 0s - loss: 0.6639 - accuracy: 0.7656\n",
      "Epoch 93: saving model to model/keypoint_classifier/keypoint_classifier.hdf5\n",
      "63/63 [==============================] - 0s 1ms/step - loss: 0.6343 - accuracy: 0.7962 - val_loss: 0.2282 - val_accuracy: 0.9620\n",
      "Epoch 94/1000\n",
      " 1/63 [..............................] - ETA: 0s - loss: 0.6080 - accuracy: 0.7656\n",
      "Epoch 94: saving model to model/keypoint_classifier/keypoint_classifier.hdf5\n",
      "63/63 [==============================] - 0s 1ms/step - loss: 0.6446 - accuracy: 0.7908 - val_loss: 0.2278 - val_accuracy: 0.9669\n",
      "Epoch 95/1000\n",
      " 1/63 [..............................] - ETA: 0s - loss: 0.6433 - accuracy: 0.7812\n",
      "Epoch 95: saving model to model/keypoint_classifier/keypoint_classifier.hdf5\n",
      "63/63 [==============================] - 0s 1ms/step - loss: 0.6270 - accuracy: 0.7942 - val_loss: 0.2153 - val_accuracy: 0.9669\n",
      "Epoch 96/1000\n",
      " 1/63 [..............................] - ETA: 0s - loss: 0.5316 - accuracy: 0.8203\n",
      "Epoch 96: saving model to model/keypoint_classifier/keypoint_classifier.hdf5\n",
      "63/63 [==============================] - 0s 1ms/step - loss: 0.6551 - accuracy: 0.7829 - val_loss: 0.2303 - val_accuracy: 0.9631\n",
      "Epoch 97/1000\n",
      " 1/63 [..............................] - ETA: 0s - loss: 0.5545 - accuracy: 0.8125\n",
      "Epoch 97: saving model to model/keypoint_classifier/keypoint_classifier.hdf5\n",
      "63/63 [==============================] - 0s 1ms/step - loss: 0.6329 - accuracy: 0.7850 - val_loss: 0.2244 - val_accuracy: 0.9639\n",
      "Epoch 98/1000\n",
      " 1/63 [..............................] - ETA: 0s - loss: 0.6255 - accuracy: 0.7578\n",
      "Epoch 98: saving model to model/keypoint_classifier/keypoint_classifier.hdf5\n",
      "63/63 [==============================] - 0s 1ms/step - loss: 0.6251 - accuracy: 0.8010 - val_loss: 0.2185 - val_accuracy: 0.9688\n",
      "Epoch 99/1000\n",
      " 1/63 [..............................] - ETA: 0s - loss: 0.5016 - accuracy: 0.8438\n",
      "Epoch 99: saving model to model/keypoint_classifier/keypoint_classifier.hdf5\n",
      "63/63 [==============================] - 0s 1ms/step - loss: 0.6339 - accuracy: 0.7887 - val_loss: 0.2209 - val_accuracy: 0.9635\n",
      "Epoch 100/1000\n",
      " 1/63 [..............................] - ETA: 0s - loss: 0.5292 - accuracy: 0.8203\n",
      "Epoch 100: saving model to model/keypoint_classifier/keypoint_classifier.hdf5\n",
      "63/63 [==============================] - 0s 1ms/step - loss: 0.6282 - accuracy: 0.7958 - val_loss: 0.2210 - val_accuracy: 0.9605\n",
      "Epoch 101/1000\n",
      " 1/63 [..............................] - ETA: 0s - loss: 0.5033 - accuracy: 0.8828\n",
      "Epoch 101: saving model to model/keypoint_classifier/keypoint_classifier.hdf5\n",
      "63/63 [==============================] - 0s 1ms/step - loss: 0.6270 - accuracy: 0.7948 - val_loss: 0.2144 - val_accuracy: 0.9650\n",
      "Epoch 102/1000\n",
      " 1/63 [..............................] - ETA: 0s - loss: 0.6347 - accuracy: 0.8047\n",
      "Epoch 102: saving model to model/keypoint_classifier/keypoint_classifier.hdf5\n",
      "63/63 [==============================] - 0s 1ms/step - loss: 0.6190 - accuracy: 0.7982 - val_loss: 0.2151 - val_accuracy: 0.9631\n",
      "Epoch 103/1000\n",
      " 1/63 [..............................] - ETA: 0s - loss: 0.7818 - accuracy: 0.7734\n",
      "Epoch 103: saving model to model/keypoint_classifier/keypoint_classifier.hdf5\n",
      "63/63 [==============================] - 0s 1ms/step - loss: 0.6320 - accuracy: 0.7855 - val_loss: 0.2125 - val_accuracy: 0.9639\n",
      "Epoch 104/1000\n",
      " 1/63 [..............................] - ETA: 0s - loss: 0.5574 - accuracy: 0.8047\n",
      "Epoch 104: saving model to model/keypoint_classifier/keypoint_classifier.hdf5\n",
      "63/63 [==============================] - 0s 1ms/step - loss: 0.6243 - accuracy: 0.7969 - val_loss: 0.2091 - val_accuracy: 0.9665\n",
      "Epoch 105/1000\n",
      " 1/63 [..............................] - ETA: 0s - loss: 0.7305 - accuracy: 0.8047\n",
      "Epoch 105: saving model to model/keypoint_classifier/keypoint_classifier.hdf5\n",
      "63/63 [==============================] - 0s 1ms/step - loss: 0.6346 - accuracy: 0.7964 - val_loss: 0.2115 - val_accuracy: 0.9676\n",
      "Epoch 106/1000\n",
      " 1/63 [..............................] - ETA: 0s - loss: 0.6886 - accuracy: 0.7891\n",
      "Epoch 106: saving model to model/keypoint_classifier/keypoint_classifier.hdf5\n",
      "63/63 [==============================] - 0s 1ms/step - loss: 0.6350 - accuracy: 0.7954 - val_loss: 0.2097 - val_accuracy: 0.9669\n",
      "Epoch 107/1000\n",
      " 1/63 [..............................] - ETA: 0s - loss: 0.5083 - accuracy: 0.8125\n",
      "Epoch 107: saving model to model/keypoint_classifier/keypoint_classifier.hdf5\n",
      "63/63 [==============================] - 0s 1ms/step - loss: 0.6295 - accuracy: 0.7968 - val_loss: 0.2081 - val_accuracy: 0.9673\n",
      "Epoch 108/1000\n",
      " 1/63 [..............................] - ETA: 0s - loss: 0.5162 - accuracy: 0.8125\n",
      "Epoch 108: saving model to model/keypoint_classifier/keypoint_classifier.hdf5\n",
      "63/63 [==============================] - 0s 1ms/step - loss: 0.6298 - accuracy: 0.7938 - val_loss: 0.2194 - val_accuracy: 0.9650\n",
      "Epoch 109/1000\n",
      " 1/63 [..............................] - ETA: 0s - loss: 0.5942 - accuracy: 0.7812\n",
      "Epoch 109: saving model to model/keypoint_classifier/keypoint_classifier.hdf5\n",
      "63/63 [==============================] - 0s 1ms/step - loss: 0.6218 - accuracy: 0.7958 - val_loss: 0.2089 - val_accuracy: 0.9680\n",
      "Epoch 110/1000\n",
      " 1/63 [..............................] - ETA: 0s - loss: 0.6642 - accuracy: 0.7969\n",
      "Epoch 110: saving model to model/keypoint_classifier/keypoint_classifier.hdf5\n",
      "63/63 [==============================] - 0s 1ms/step - loss: 0.6237 - accuracy: 0.8001 - val_loss: 0.2121 - val_accuracy: 0.9673\n",
      "Epoch 111/1000\n",
      " 1/63 [..............................] - ETA: 0s - loss: 0.6282 - accuracy: 0.7812\n",
      "Epoch 111: saving model to model/keypoint_classifier/keypoint_classifier.hdf5\n",
      "63/63 [==============================] - 0s 1ms/step - loss: 0.6197 - accuracy: 0.7952 - val_loss: 0.2140 - val_accuracy: 0.9669\n",
      "Epoch 112/1000\n",
      " 1/63 [..............................] - ETA: 0s - loss: 0.7354 - accuracy: 0.7578\n",
      "Epoch 112: saving model to model/keypoint_classifier/keypoint_classifier.hdf5\n",
      "63/63 [==============================] - 0s 1ms/step - loss: 0.6229 - accuracy: 0.7898 - val_loss: 0.2055 - val_accuracy: 0.9646\n",
      "Epoch 113/1000\n",
      " 1/63 [..............................] - ETA: 0s - loss: 0.6533 - accuracy: 0.7500\n",
      "Epoch 113: saving model to model/keypoint_classifier/keypoint_classifier.hdf5\n",
      "63/63 [==============================] - 0s 1ms/step - loss: 0.6149 - accuracy: 0.7993 - val_loss: 0.2176 - val_accuracy: 0.9654\n",
      "Epoch 114/1000\n",
      " 1/63 [..............................] - ETA: 0s - loss: 0.7982 - accuracy: 0.7812\n",
      "Epoch 114: saving model to model/keypoint_classifier/keypoint_classifier.hdf5\n",
      "63/63 [==============================] - 0s 1ms/step - loss: 0.6123 - accuracy: 0.7977 - val_loss: 0.2051 - val_accuracy: 0.9673\n",
      "Epoch 115/1000\n",
      " 1/63 [..............................] - ETA: 0s - loss: 0.5450 - accuracy: 0.8047\n",
      "Epoch 115: saving model to model/keypoint_classifier/keypoint_classifier.hdf5\n",
      "63/63 [==============================] - 0s 1ms/step - loss: 0.6080 - accuracy: 0.8042 - val_loss: 0.2073 - val_accuracy: 0.9665\n",
      "Epoch 116/1000\n",
      " 1/63 [..............................] - ETA: 0s - loss: 0.5941 - accuracy: 0.8125\n",
      "Epoch 116: saving model to model/keypoint_classifier/keypoint_classifier.hdf5\n",
      "63/63 [==============================] - 0s 1ms/step - loss: 0.6162 - accuracy: 0.7998 - val_loss: 0.2110 - val_accuracy: 0.9639\n",
      "Epoch 117/1000\n",
      " 1/63 [..............................] - ETA: 0s - loss: 0.5927 - accuracy: 0.8203\n",
      "Epoch 117: saving model to model/keypoint_classifier/keypoint_classifier.hdf5\n",
      "63/63 [==============================] - 0s 1ms/step - loss: 0.6137 - accuracy: 0.8007 - val_loss: 0.2022 - val_accuracy: 0.9695\n",
      "Epoch 118/1000\n",
      " 1/63 [..............................] - ETA: 0s - loss: 0.5767 - accuracy: 0.8359\n",
      "Epoch 118: saving model to model/keypoint_classifier/keypoint_classifier.hdf5\n",
      "63/63 [==============================] - 0s 1ms/step - loss: 0.6122 - accuracy: 0.8028 - val_loss: 0.2094 - val_accuracy: 0.9661\n",
      "Epoch 119/1000\n",
      " 1/63 [..............................] - ETA: 0s - loss: 0.6234 - accuracy: 0.7812\n",
      "Epoch 119: saving model to model/keypoint_classifier/keypoint_classifier.hdf5\n",
      "63/63 [==============================] - 0s 1ms/step - loss: 0.6073 - accuracy: 0.8017 - val_loss: 0.2024 - val_accuracy: 0.9643\n",
      "Epoch 120/1000\n",
      " 1/63 [..............................] - ETA: 0s - loss: 0.5728 - accuracy: 0.7812\n",
      "Epoch 120: saving model to model/keypoint_classifier/keypoint_classifier.hdf5\n",
      "63/63 [==============================] - 0s 1ms/step - loss: 0.6241 - accuracy: 0.7951 - val_loss: 0.2063 - val_accuracy: 0.9669\n",
      "Epoch 121/1000\n",
      " 1/63 [..............................] - ETA: 0s - loss: 0.5629 - accuracy: 0.8281\n",
      "Epoch 121: saving model to model/keypoint_classifier/keypoint_classifier.hdf5\n",
      "63/63 [==============================] - 0s 1ms/step - loss: 0.6237 - accuracy: 0.8008 - val_loss: 0.2120 - val_accuracy: 0.9639\n",
      "Epoch 122/1000\n",
      " 1/63 [..............................] - ETA: 0s - loss: 0.7311 - accuracy: 0.7422\n",
      "Epoch 122: saving model to model/keypoint_classifier/keypoint_classifier.hdf5\n",
      "63/63 [==============================] - 0s 1ms/step - loss: 0.6116 - accuracy: 0.8013 - val_loss: 0.2141 - val_accuracy: 0.9646\n",
      "Epoch 123/1000\n",
      " 1/63 [..............................] - ETA: 0s - loss: 0.5130 - accuracy: 0.8047\n",
      "Epoch 123: saving model to model/keypoint_classifier/keypoint_classifier.hdf5\n",
      "63/63 [==============================] - 0s 1ms/step - loss: 0.6095 - accuracy: 0.8021 - val_loss: 0.2094 - val_accuracy: 0.9605\n",
      "Epoch 124/1000\n",
      " 1/63 [..............................] - ETA: 0s - loss: 0.6377 - accuracy: 0.8203\n",
      "Epoch 124: saving model to model/keypoint_classifier/keypoint_classifier.hdf5\n",
      "63/63 [==============================] - 0s 1ms/step - loss: 0.5996 - accuracy: 0.8073 - val_loss: 0.1961 - val_accuracy: 0.9673\n",
      "Epoch 125/1000\n",
      " 1/63 [..............................] - ETA: 0s - loss: 0.5344 - accuracy: 0.8438\n",
      "Epoch 125: saving model to model/keypoint_classifier/keypoint_classifier.hdf5\n",
      "63/63 [==============================] - 0s 1ms/step - loss: 0.6100 - accuracy: 0.8072 - val_loss: 0.1984 - val_accuracy: 0.9684\n",
      "Epoch 126/1000\n",
      " 1/63 [..............................] - ETA: 0s - loss: 0.6694 - accuracy: 0.7891\n",
      "Epoch 126: saving model to model/keypoint_classifier/keypoint_classifier.hdf5\n",
      "63/63 [==============================] - 0s 1ms/step - loss: 0.6216 - accuracy: 0.7944 - val_loss: 0.1982 - val_accuracy: 0.9691\n",
      "Epoch 127/1000\n",
      " 1/63 [..............................] - ETA: 0s - loss: 0.6174 - accuracy: 0.8438\n",
      "Epoch 127: saving model to model/keypoint_classifier/keypoint_classifier.hdf5\n",
      "63/63 [==============================] - 0s 1ms/step - loss: 0.6234 - accuracy: 0.7964 - val_loss: 0.2052 - val_accuracy: 0.9646\n",
      "Epoch 128/1000\n",
      " 1/63 [..............................] - ETA: 0s - loss: 0.5143 - accuracy: 0.8359\n",
      "Epoch 128: saving model to model/keypoint_classifier/keypoint_classifier.hdf5\n",
      "63/63 [==============================] - 0s 1ms/step - loss: 0.5991 - accuracy: 0.8007 - val_loss: 0.2032 - val_accuracy: 0.9676\n",
      "Epoch 129/1000\n",
      " 1/63 [..............................] - ETA: 0s - loss: 0.6924 - accuracy: 0.7734\n",
      "Epoch 129: saving model to model/keypoint_classifier/keypoint_classifier.hdf5\n",
      "63/63 [==============================] - 0s 1ms/step - loss: 0.6028 - accuracy: 0.8003 - val_loss: 0.2076 - val_accuracy: 0.9669\n",
      "Epoch 130/1000\n",
      " 1/63 [..............................] - ETA: 0s - loss: 0.4892 - accuracy: 0.8516\n",
      "Epoch 130: saving model to model/keypoint_classifier/keypoint_classifier.hdf5\n",
      "63/63 [==============================] - 0s 1ms/step - loss: 0.6140 - accuracy: 0.7986 - val_loss: 0.2070 - val_accuracy: 0.9650\n",
      "Epoch 131/1000\n",
      " 1/63 [..............................] - ETA: 0s - loss: 0.5498 - accuracy: 0.8438\n",
      "Epoch 131: saving model to model/keypoint_classifier/keypoint_classifier.hdf5\n",
      "63/63 [==============================] - 0s 1ms/step - loss: 0.5970 - accuracy: 0.8007 - val_loss: 0.1992 - val_accuracy: 0.9665\n",
      "Epoch 132/1000\n",
      " 1/63 [..............................] - ETA: 0s - loss: 0.6197 - accuracy: 0.7734\n",
      "Epoch 132: saving model to model/keypoint_classifier/keypoint_classifier.hdf5\n",
      "63/63 [==============================] - 0s 1ms/step - loss: 0.6191 - accuracy: 0.7974 - val_loss: 0.2047 - val_accuracy: 0.9665\n",
      "Epoch 133/1000\n",
      " 1/63 [..............................] - ETA: 0s - loss: 0.6135 - accuracy: 0.7891\n",
      "Epoch 133: saving model to model/keypoint_classifier/keypoint_classifier.hdf5\n",
      "63/63 [==============================] - 0s 1ms/step - loss: 0.5948 - accuracy: 0.8032 - val_loss: 0.1949 - val_accuracy: 0.9639\n",
      "Epoch 134/1000\n",
      " 1/63 [..............................] - ETA: 0s - loss: 0.5612 - accuracy: 0.8047\n",
      "Epoch 134: saving model to model/keypoint_classifier/keypoint_classifier.hdf5\n",
      "63/63 [==============================] - 0s 1ms/step - loss: 0.6026 - accuracy: 0.8037 - val_loss: 0.1925 - val_accuracy: 0.9669\n",
      "Epoch 135/1000\n",
      " 1/63 [..............................] - ETA: 0s - loss: 0.5957 - accuracy: 0.7969\n",
      "Epoch 135: saving model to model/keypoint_classifier/keypoint_classifier.hdf5\n",
      "63/63 [==============================] - 0s 1ms/step - loss: 0.6153 - accuracy: 0.7984 - val_loss: 0.2061 - val_accuracy: 0.9586\n",
      "Epoch 136/1000\n",
      " 1/63 [..............................] - ETA: 0s - loss: 0.6346 - accuracy: 0.7656\n",
      "Epoch 136: saving model to model/keypoint_classifier/keypoint_classifier.hdf5\n",
      "63/63 [==============================] - 0s 1ms/step - loss: 0.5895 - accuracy: 0.8052 - val_loss: 0.1997 - val_accuracy: 0.9631\n",
      "Epoch 137/1000\n",
      " 1/63 [..............................] - ETA: 0s - loss: 0.5220 - accuracy: 0.8438\n",
      "Epoch 137: saving model to model/keypoint_classifier/keypoint_classifier.hdf5\n",
      "63/63 [==============================] - 0s 1ms/step - loss: 0.6101 - accuracy: 0.7983 - val_loss: 0.1946 - val_accuracy: 0.9669\n",
      "Epoch 138/1000\n",
      " 1/63 [..............................] - ETA: 0s - loss: 0.5643 - accuracy: 0.8203\n",
      "Epoch 138: saving model to model/keypoint_classifier/keypoint_classifier.hdf5\n",
      "63/63 [==============================] - 0s 1ms/step - loss: 0.5821 - accuracy: 0.8132 - val_loss: 0.1870 - val_accuracy: 0.9710\n",
      "Epoch 139/1000\n",
      " 1/63 [..............................] - ETA: 0s - loss: 0.4589 - accuracy: 0.8438\n",
      "Epoch 139: saving model to model/keypoint_classifier/keypoint_classifier.hdf5\n",
      "63/63 [==============================] - 0s 1ms/step - loss: 0.6038 - accuracy: 0.8040 - val_loss: 0.1922 - val_accuracy: 0.9650\n",
      "Epoch 140/1000\n",
      " 1/63 [..............................] - ETA: 0s - loss: 0.6016 - accuracy: 0.7969\n",
      "Epoch 140: saving model to model/keypoint_classifier/keypoint_classifier.hdf5\n",
      "63/63 [==============================] - 0s 1ms/step - loss: 0.5972 - accuracy: 0.8060 - val_loss: 0.2037 - val_accuracy: 0.9646\n",
      "Epoch 141/1000\n",
      " 1/63 [..............................] - ETA: 0s - loss: 0.6555 - accuracy: 0.8047\n",
      "Epoch 141: saving model to model/keypoint_classifier/keypoint_classifier.hdf5\n",
      "63/63 [==============================] - 0s 1ms/step - loss: 0.6017 - accuracy: 0.8011 - val_loss: 0.2017 - val_accuracy: 0.9684\n",
      "Epoch 142/1000\n",
      " 1/63 [..............................] - ETA: 0s - loss: 0.7812 - accuracy: 0.7266\n",
      "Epoch 142: saving model to model/keypoint_classifier/keypoint_classifier.hdf5\n",
      "63/63 [==============================] - 0s 1ms/step - loss: 0.5810 - accuracy: 0.8061 - val_loss: 0.1972 - val_accuracy: 0.9680\n",
      "Epoch 143/1000\n",
      " 1/63 [..............................] - ETA: 0s - loss: 0.4389 - accuracy: 0.8203\n",
      "Epoch 143: saving model to model/keypoint_classifier/keypoint_classifier.hdf5\n",
      "63/63 [==============================] - 0s 1ms/step - loss: 0.6070 - accuracy: 0.7987 - val_loss: 0.2028 - val_accuracy: 0.9665\n",
      "Epoch 144/1000\n",
      " 1/63 [..............................] - ETA: 0s - loss: 0.7277 - accuracy: 0.7812\n",
      "Epoch 144: saving model to model/keypoint_classifier/keypoint_classifier.hdf5\n",
      "63/63 [==============================] - 0s 1ms/step - loss: 0.6096 - accuracy: 0.8020 - val_loss: 0.2041 - val_accuracy: 0.9628\n",
      "Epoch 145/1000\n",
      " 1/63 [..............................] - ETA: 0s - loss: 0.6156 - accuracy: 0.8359\n",
      "Epoch 145: saving model to model/keypoint_classifier/keypoint_classifier.hdf5\n",
      "63/63 [==============================] - 0s 1ms/step - loss: 0.5815 - accuracy: 0.8061 - val_loss: 0.1897 - val_accuracy: 0.9665\n",
      "Epoch 146/1000\n",
      " 1/63 [..............................] - ETA: 0s - loss: 0.6972 - accuracy: 0.7656\n",
      "Epoch 146: saving model to model/keypoint_classifier/keypoint_classifier.hdf5\n",
      "63/63 [==============================] - 0s 1ms/step - loss: 0.6044 - accuracy: 0.8043 - val_loss: 0.2036 - val_accuracy: 0.9643\n",
      "Epoch 147/1000\n",
      " 1/63 [..............................] - ETA: 0s - loss: 0.5768 - accuracy: 0.8359\n",
      "Epoch 147: saving model to model/keypoint_classifier/keypoint_classifier.hdf5\n",
      "63/63 [==============================] - 0s 1ms/step - loss: 0.5597 - accuracy: 0.8191 - val_loss: 0.2020 - val_accuracy: 0.9643\n",
      "Epoch 148/1000\n",
      " 1/63 [..............................] - ETA: 0s - loss: 0.6039 - accuracy: 0.7734\n",
      "Epoch 148: saving model to model/keypoint_classifier/keypoint_classifier.hdf5\n",
      "63/63 [==============================] - 0s 1ms/step - loss: 0.6048 - accuracy: 0.8058 - val_loss: 0.1990 - val_accuracy: 0.9609\n",
      "Epoch 149/1000\n",
      " 1/63 [..............................] - ETA: 0s - loss: 0.3856 - accuracy: 0.8984\n",
      "Epoch 149: saving model to model/keypoint_classifier/keypoint_classifier.hdf5\n",
      "63/63 [==============================] - 0s 1ms/step - loss: 0.5992 - accuracy: 0.8025 - val_loss: 0.1990 - val_accuracy: 0.9646\n",
      "Epoch 150/1000\n",
      " 1/63 [..............................] - ETA: 0s - loss: 0.5319 - accuracy: 0.8125\n",
      "Epoch 150: saving model to model/keypoint_classifier/keypoint_classifier.hdf5\n",
      "63/63 [==============================] - 0s 1ms/step - loss: 0.5961 - accuracy: 0.8066 - val_loss: 0.2083 - val_accuracy: 0.9631\n",
      "Epoch 151/1000\n",
      " 1/63 [..............................] - ETA: 0s - loss: 0.6649 - accuracy: 0.7500\n",
      "Epoch 151: saving model to model/keypoint_classifier/keypoint_classifier.hdf5\n",
      "63/63 [==============================] - 0s 1ms/step - loss: 0.6186 - accuracy: 0.7953 - val_loss: 0.2094 - val_accuracy: 0.9612\n",
      "Epoch 152/1000\n",
      " 1/63 [..............................] - ETA: 0s - loss: 0.5760 - accuracy: 0.8047\n",
      "Epoch 152: saving model to model/keypoint_classifier/keypoint_classifier.hdf5\n",
      "63/63 [==============================] - 0s 1ms/step - loss: 0.5843 - accuracy: 0.8082 - val_loss: 0.2014 - val_accuracy: 0.9631\n",
      "Epoch 153/1000\n",
      " 1/63 [..............................] - ETA: 0s - loss: 0.4509 - accuracy: 0.8516\n",
      "Epoch 153: saving model to model/keypoint_classifier/keypoint_classifier.hdf5\n",
      "63/63 [==============================] - 0s 1ms/step - loss: 0.5977 - accuracy: 0.8079 - val_loss: 0.2128 - val_accuracy: 0.9612\n",
      "Epoch 154/1000\n",
      " 1/63 [..............................] - ETA: 0s - loss: 0.6521 - accuracy: 0.8125\n",
      "Epoch 154: saving model to model/keypoint_classifier/keypoint_classifier.hdf5\n",
      "63/63 [==============================] - 0s 1ms/step - loss: 0.5728 - accuracy: 0.8117 - val_loss: 0.1985 - val_accuracy: 0.9673\n",
      "Epoch 155/1000\n",
      " 1/63 [..............................] - ETA: 0s - loss: 0.4610 - accuracy: 0.8594\n",
      "Epoch 155: saving model to model/keypoint_classifier/keypoint_classifier.hdf5\n",
      "63/63 [==============================] - 0s 1ms/step - loss: 0.5956 - accuracy: 0.8090 - val_loss: 0.2030 - val_accuracy: 0.9650\n",
      "Epoch 156/1000\n",
      " 1/63 [..............................] - ETA: 0s - loss: 0.4938 - accuracy: 0.8203\n",
      "Epoch 156: saving model to model/keypoint_classifier/keypoint_classifier.hdf5\n",
      "63/63 [==============================] - 0s 1ms/step - loss: 0.5843 - accuracy: 0.8045 - val_loss: 0.2046 - val_accuracy: 0.9639\n",
      "Epoch 157/1000\n",
      " 1/63 [..............................] - ETA: 0s - loss: 0.7038 - accuracy: 0.7969\n",
      "Epoch 157: saving model to model/keypoint_classifier/keypoint_classifier.hdf5\n",
      "63/63 [==============================] - 0s 1ms/step - loss: 0.6040 - accuracy: 0.7997 - val_loss: 0.2059 - val_accuracy: 0.9605\n",
      "Epoch 158/1000\n",
      " 1/63 [..............................] - ETA: 0s - loss: 0.4794 - accuracy: 0.8281\n",
      "Epoch 158: saving model to model/keypoint_classifier/keypoint_classifier.hdf5\n",
      "63/63 [==============================] - 0s 1ms/step - loss: 0.6064 - accuracy: 0.8011 - val_loss: 0.2087 - val_accuracy: 0.9594\n",
      "Epoch 158: early stopping\n"
     ]
    },
    {
     "data": {
      "text/plain": [
       "<keras.src.callbacks.History at 0x2c7f3e750>"
      ]
     },
     "execution_count": 11,
     "metadata": {},
     "output_type": "execute_result"
    }
   ],
   "source": [
    "model.fit(\n",
    "    X_train,\n",
    "    y_train,\n",
    "    epochs=1000,\n",
    "    batch_size=128,\n",
    "    validation_data=(X_test, y_test),\n",
    "    callbacks=[cp_callback, es_callback]\n",
    ")"
   ]
  },
  {
   "cell_type": "code",
   "execution_count": 12,
   "metadata": {
    "colab": {
     "base_uri": "https://localhost:8080/"
    },
    "id": "pxvb2Y299hE3",
    "outputId": "59eb3185-2e37-4b9e-bc9d-ab1b8ac29b7f"
   },
   "outputs": [
    {
     "name": "stdout",
     "output_type": "stream",
     "text": [
      "21/21 [==============================] - 0s 613us/step - loss: 0.2087 - accuracy: 0.9594\n"
     ]
    }
   ],
   "source": [
    "# Model evaluation\n",
    "val_loss, val_acc = model.evaluate(X_test, y_test, batch_size=128)"
   ]
  },
  {
   "cell_type": "code",
   "execution_count": 13,
   "metadata": {
    "id": "RBkmDeUW9hE4"
   },
   "outputs": [],
   "source": [
    "# Loading the saved model\n",
    "model = tf.keras.models.load_model(model_save_path)"
   ]
  },
  {
   "cell_type": "code",
   "execution_count": 14,
   "metadata": {
    "colab": {
     "base_uri": "https://localhost:8080/"
    },
    "id": "tFz9Tb0I9hE4",
    "outputId": "1c3b3528-54ae-4ee2-ab04-77429211cbef"
   },
   "outputs": [
    {
     "name": "stdout",
     "output_type": "stream",
     "text": [
      "1/1 [==============================] - 0s 47ms/step\n",
      "[5.82313165e-04 7.89851665e-01 4.20719199e-02 1.29971039e-02\n",
      " 1.55169303e-02 7.59731571e-04 7.21622119e-03 7.38789851e-04\n",
      " 1.02603585e-01 2.75890250e-02 1.59841111e-05 5.66220770e-05\n",
      " 2.24553283e-08]\n",
      "1\n"
     ]
    }
   ],
   "source": [
    "# Inference test\n",
    "predict_result = model.predict(np.array([X_test[0]]))\n",
    "print(np.squeeze(predict_result))\n",
    "print(np.argmax(np.squeeze(predict_result)))"
   ]
  },
  {
   "cell_type": "markdown",
   "metadata": {
    "id": "S3U4yNWx9hE4"
   },
   "source": [
    "# Confusion matrix"
   ]
  },
  {
   "cell_type": "code",
   "execution_count": 15,
   "metadata": {
    "colab": {
     "base_uri": "https://localhost:8080/",
     "height": 582
    },
    "id": "AP1V6SCk9hE5",
    "outputId": "08e41a80-7a4a-4619-8125-ecc371368d19"
   },
   "outputs": [
    {
     "name": "stdout",
     "output_type": "stream",
     "text": [
      "84/84 [==============================] - 0s 486us/step\n"
     ]
    },
    {
     "data": {
      "image/png": "[encoded data removed]",
      "text/plain": [
       "<Figure size 700x600 with 2 Axes>"
      ]
     },
     "metadata": {},
     "output_type": "display_data"
    },
    {
     "name": "stdout",
     "output_type": "stream",
     "text": [
      "Classification Report\n",
      "              precision    recall  f1-score   support\n",
      "\n",
      "           0       0.95      0.39      0.55       108\n",
      "           1       0.97      0.98      0.98       336\n",
      "           2       0.96      0.99      0.98       308\n",
      "           3       1.00      0.98      0.99       208\n",
      "           4       0.85      0.96      0.90       392\n",
      "           5       0.99      1.00      0.99       236\n",
      "           6       0.98      0.99      0.98       213\n",
      "           7       0.98      1.00      0.99       173\n",
      "           8       0.98      0.99      0.99       189\n",
      "           9       0.98      0.91      0.94       100\n",
      "          10       0.99      1.00      1.00       115\n",
      "          11       0.99      1.00      0.99       280\n",
      "\n",
      "    accuracy                           0.96      2658\n",
      "   macro avg       0.97      0.93      0.94      2658\n",
      "weighted avg       0.96      0.96      0.95      2658\n",
      "\n"
     ]
    }
   ],
   "source": [
    "import pandas as pd\n",
    "import seaborn as sns\n",
    "import matplotlib.pyplot as plt\n",
    "from sklearn.metrics import confusion_matrix, classification_report\n",
    "\n",
    "def print_confusion_matrix(y_true, y_pred, report=True):\n",
    "    labels = sorted(list(set(y_true)))\n",
    "    cmx_data = confusion_matrix(y_true, y_pred, labels=labels)\n",
    "    \n",
    "    df_cmx = pd.DataFrame(cmx_data, index=labels, columns=labels)\n",
    " \n",
    "    fig, ax = plt.subplots(figsize=(7, 6))\n",
    "    sns.heatmap(df_cmx, annot=True, fmt='g' ,square=False)\n",
    "    ax.set_ylim(len(set(y_true)), 0)\n",
    "    plt.show()\n",
    "    \n",
    "    if report:\n",
    "        print('Classification Report')\n",
    "        print(classification_report(y_test, y_pred))\n",
    "\n",
    "Y_pred = model.predict(X_test)\n",
    "y_pred = np.argmax(Y_pred, axis=1)\n",
    "\n",
    "print_confusion_matrix(y_test, y_pred)"
   ]
  },
  {
   "cell_type": "markdown",
   "metadata": {
    "id": "FNP6aqzc9hE5"
   },
   "source": [
    "# Convert to model for Tensorflow-Lite"
   ]
  },
  {
   "cell_type": "code",
   "execution_count": 16,
   "metadata": {
    "id": "ODjnYyld9hE6"
   },
   "outputs": [
    {
     "name": "stderr",
     "output_type": "stream",
     "text": [
      "/Users/tyler/Desktop/SCHOOL/CAPSTONE/OpenCV/open_cv_env/lib/python3.11/site-packages/keras/src/engine/training.py:3103: UserWarning: You are saving your model as an HDF5 file via `model.save()`. This file format is considered legacy. We recommend using instead the native Keras format, e.g. `model.save('my_model.keras')`.\n",
      "  saving_api.save_model(\n"
     ]
    }
   ],
   "source": [
    "# Save as a model dedicated to inference\n",
    "model.save(model_save_path, include_optimizer=False)"
   ]
  },
  {
   "cell_type": "code",
   "execution_count": 17,
   "metadata": {
    "colab": {
     "base_uri": "https://localhost:8080/"
    },
    "id": "zRfuK8Y59hE6",
    "outputId": "a4ca585c-b5d5-4244-8291-8674063209bb"
   },
   "outputs": [
    {
     "name": "stdout",
     "output_type": "stream",
     "text": [
      "INFO:tensorflow:Assets written to: /var/folders/4l/qwn4ljgj73j80nqb2176qccr0000gn/T/tmpm8dvj1gy/assets\n"
     ]
    },
    {
     "name": "stderr",
     "output_type": "stream",
     "text": [
      "INFO:tensorflow:Assets written to: /var/folders/4l/qwn4ljgj73j80nqb2176qccr0000gn/T/tmpm8dvj1gy/assets\n",
      "2024-03-19 20:29:55.646574: W tensorflow/compiler/mlir/lite/python/tf_tfl_flatbuffer_helpers.cc:378] Ignored output_format.\n",
      "2024-03-19 20:29:55.646590: W tensorflow/compiler/mlir/lite/python/tf_tfl_flatbuffer_helpers.cc:381] Ignored drop_control_dependency.\n",
      "Summary on the non-converted ops:\n",
      "---------------------------------\n",
      " * Accepted dialects: tfl, builtin, func\n",
      " * Non-Converted Ops: 6, Total Ops 13, % non-converted = 46.15 %\n",
      " * 6 ARITH ops\n",
      "\n",
      "- arith.constant:    6 occurrences  (f32: 6)\n",
      "\n",
      "\n",
      "\n",
      "  (f32: 3)\n",
      "  (f32: 1)\n"
     ]
    },
    {
     "data": {
      "text/plain": [
       "6940"
      ]
     },
     "execution_count": 17,
     "metadata": {},
     "output_type": "execute_result"
    }
   ],
   "source": [
    "# Transform model (quantization)\n",
    "\n",
    "converter = tf.lite.TFLiteConverter.from_keras_model(model)\n",
    "converter.optimizations = [tf.lite.Optimize.DEFAULT]\n",
    "tflite_quantized_model = converter.convert()\n",
    "\n",
    "open(tflite_save_path, 'wb').write(tflite_quantized_model)"
   ]
  },
  {
   "cell_type": "markdown",
   "metadata": {
    "id": "CHBPBXdx9hE6"
   },
   "source": [
    "# Inference test"
   ]
  },
  {
   "cell_type": "code",
   "execution_count": 18,
   "metadata": {
    "id": "mGAzLocO9hE7"
   },
   "outputs": [
    {
     "name": "stderr",
     "output_type": "stream",
     "text": [
      "INFO: Created TensorFlow Lite XNNPACK delegate for CPU.\n"
     ]
    }
   ],
   "source": [
    "interpreter = tf.lite.Interpreter(model_path=tflite_save_path)\n",
    "interpreter.allocate_tensors()"
   ]
  },
  {
   "cell_type": "code",
   "execution_count": 19,
   "metadata": {
    "id": "oQuDK8YS9hE7"
   },
   "outputs": [],
   "source": [
    "# Get I / O tensor\n",
    "input_details = interpreter.get_input_details()\n",
    "output_details = interpreter.get_output_details()"
   ]
  },
  {
   "cell_type": "code",
   "execution_count": 20,
   "metadata": {
    "id": "2_ixAf_l9hE7"
   },
   "outputs": [],
   "source": [
    "interpreter.set_tensor(input_details[0]['index'], np.array([X_test[0]]))"
   ]
  },
  {
   "cell_type": "code",
   "execution_count": 21,
   "metadata": {
    "colab": {
     "base_uri": "https://localhost:8080/"
    },
    "id": "s4FoAnuc9hE7",
    "outputId": "91f18257-8d8b-4ef3-c558-e9b5f94fabbf",
    "scrolled": true
   },
   "outputs": [
    {
     "name": "stdout",
     "output_type": "stream",
     "text": [
      "CPU times: user 512 µs, sys: 731 µs, total: 1.24 ms\n",
      "Wall time: 965 µs\n"
     ]
    }
   ],
   "source": [
    "%%time\n",
    "# Inference implementation\n",
    "interpreter.invoke()\n",
    "tflite_results = interpreter.get_tensor(output_details[0]['index'])"
   ]
  },
  {
   "cell_type": "code",
   "execution_count": 22,
   "metadata": {
    "colab": {
     "base_uri": "https://localhost:8080/"
    },
    "id": "vONjp19J9hE8",
    "outputId": "77205e24-fd00-42c4-f7b6-e06e527c2cba"
   },
   "outputs": [
    {
     "name": "stdout",
     "output_type": "stream",
     "text": [
      "[5.8231317e-04 7.8985167e-01 4.2071920e-02 1.2997105e-02 1.5516930e-02\n",
      " 7.5973157e-04 7.2162212e-03 7.3878944e-04 1.0260361e-01 2.7589034e-02\n",
      " 1.5984111e-05 5.6622077e-05 2.2455286e-08]\n",
      "1\n"
     ]
    }
   ],
   "source": [
    "print(np.squeeze(tflite_results))\n",
    "print(np.argmax(np.squeeze(tflite_results)))"
   ]
  }
 ],
 "metadata": {
  "accelerator": "GPU",
  "colab": {
   "collapsed_sections": [],
   "name": "keypoint_classification_EN.ipynb",
   "provenance": [],
   "toc_visible": true
  },
  "kernelspec": {
   "display_name": "Python 3 (ipykernel)",
   "language": "python",
   "name": "python3"
  },
  "language_info": {
   "codemirror_mode": {
    "name": "ipython",
    "version": 3
   },
   "file_extension": ".py",
   "mimetype": "text/x-python",
   "name": "python",
   "nbconvert_exporter": "python",
   "pygments_lexer": "ipython3",
   "version": "3.11.2"
  }
 },
 "nbformat": 4,
 "nbformat_minor": 4
}
